{
 "cells": [
  {
   "cell_type": "code",
   "execution_count": 55,
   "metadata": {
    "collapsed": true
   },
   "outputs": [],
   "source": [
    "#Для создания глубоких копий составных объектов\n",
    "from copy import deepcopy\n",
    "\n",
    "import os, gc\n",
    "import numpy as np\n",
    "import pandas as pd\n",
    "import seaborn as sns\n",
    "from sklearn.model_selection import cross_val_score,train_test_split, KFold\n",
    "\n",
    "from sklearn.metrics import make_scorer, mean_squared_error, mean_absolute_error\n",
    "from bayes_opt import BayesianOptimization\n",
    "\n",
    "from pylightgbm.models import GBMRegressor\n",
    "os.environ['LIGHTGBM_EXEC'] = \"/home/konstantin/program_files/LightGBM/lightgbm\" #здесь ты должен указать свой путь к GBM\n",
    "\n",
    "import xgboost as xgb\n",
    "\n",
    "%matplotlib inline\n",
    "import matplotlib.pyplot as plt\n",
    "from matplotlib.cm import rainbow"
   ]
  },
  {
   "cell_type": "code",
   "execution_count": 2,
   "metadata": {
    "collapsed": false
   },
   "outputs": [],
   "source": [
    "# Supress unnecessary warnings so that presentation looks clean\n",
    "import warnings\n",
    "warnings.filterwarnings('ignore')"
   ]
  },
  {
   "cell_type": "markdown",
   "metadata": {},
   "source": [
    "**1. Предобработка данных. Что в них есть интересного?**\n",
    "\n",
    "**2. Скоринг человека.**\n",
    "Нужно предсказать, сколько раз человек посетит врача (target).\n",
    "\n",
    "**3. Балансировка участков на скоринговой модели.**\n",
    "Необходимо,чтобы модель была интерпретируемая(набор четких правил, понятный врачу)."
   ]
  },
  {
   "cell_type": "code",
   "execution_count": 3,
   "metadata": {
    "collapsed": false
   },
   "outputs": [],
   "source": [
    "sc_data = pd.read_csv('hackaton_scoring_data.csv',sep=';')"
   ]
  },
  {
   "cell_type": "code",
   "execution_count": 4,
   "metadata": {
    "collapsed": false
   },
   "outputs": [
    {
     "data": {
      "text/html": [
       "<div>\n",
       "<table border=\"1\" class=\"dataframe\">\n",
       "  <thead>\n",
       "    <tr style=\"text-align: right;\">\n",
       "      <th></th>\n",
       "      <th>untouchable</th>\n",
       "      <th>pat_id</th>\n",
       "      <th>lpu_district</th>\n",
       "      <th>pers_district</th>\n",
       "      <th>MOSCOW_REGISTRATION</th>\n",
       "      <th>invalid</th>\n",
       "      <th>nadomnik</th>\n",
       "      <th>age_calculate_y</th>\n",
       "      <th>sovmest_deti</th>\n",
       "      <th>sovmest_lgotnik</th>\n",
       "      <th>...</th>\n",
       "      <th>bezrab_дело на рассмотрении</th>\n",
       "      <th>COMMON_GENDER</th>\n",
       "      <th>lux1</th>\n",
       "      <th>lux2</th>\n",
       "      <th>FLAG_BESSR</th>\n",
       "      <th>HAD_APPOINTMENTS</th>\n",
       "      <th>from_region</th>\n",
       "      <th>lpu_id</th>\n",
       "      <th>district_id</th>\n",
       "      <th>target</th>\n",
       "    </tr>\n",
       "  </thead>\n",
       "  <tbody>\n",
       "    <tr>\n",
       "      <th>0</th>\n",
       "      <td>NaN</td>\n",
       "      <td>0</td>\n",
       "      <td>0</td>\n",
       "      <td>0</td>\n",
       "      <td>1.0</td>\n",
       "      <td>0.0</td>\n",
       "      <td>0.0</td>\n",
       "      <td>47</td>\n",
       "      <td>0</td>\n",
       "      <td>0</td>\n",
       "      <td>...</td>\n",
       "      <td>0</td>\n",
       "      <td>0.0</td>\n",
       "      <td>0</td>\n",
       "      <td>0</td>\n",
       "      <td>0</td>\n",
       "      <td>0.0</td>\n",
       "      <td>0.0</td>\n",
       "      <td>2</td>\n",
       "      <td>38</td>\n",
       "      <td>12.0</td>\n",
       "    </tr>\n",
       "    <tr>\n",
       "      <th>1</th>\n",
       "      <td>NaN</td>\n",
       "      <td>224</td>\n",
       "      <td>0</td>\n",
       "      <td>0</td>\n",
       "      <td>1.0</td>\n",
       "      <td>0.0</td>\n",
       "      <td>0.0</td>\n",
       "      <td>50</td>\n",
       "      <td>1</td>\n",
       "      <td>1</td>\n",
       "      <td>...</td>\n",
       "      <td>0</td>\n",
       "      <td>1.0</td>\n",
       "      <td>0</td>\n",
       "      <td>0</td>\n",
       "      <td>1</td>\n",
       "      <td>1.0</td>\n",
       "      <td>0.0</td>\n",
       "      <td>2</td>\n",
       "      <td>106</td>\n",
       "      <td>19.0</td>\n",
       "    </tr>\n",
       "    <tr>\n",
       "      <th>2</th>\n",
       "      <td>NaN</td>\n",
       "      <td>344</td>\n",
       "      <td>0</td>\n",
       "      <td>0</td>\n",
       "      <td>1.0</td>\n",
       "      <td>1.0</td>\n",
       "      <td>0.0</td>\n",
       "      <td>50</td>\n",
       "      <td>0</td>\n",
       "      <td>0</td>\n",
       "      <td>...</td>\n",
       "      <td>0</td>\n",
       "      <td>0.0</td>\n",
       "      <td>0</td>\n",
       "      <td>0</td>\n",
       "      <td>0</td>\n",
       "      <td>1.0</td>\n",
       "      <td>0.0</td>\n",
       "      <td>2</td>\n",
       "      <td>96</td>\n",
       "      <td>24.0</td>\n",
       "    </tr>\n",
       "    <tr>\n",
       "      <th>3</th>\n",
       "      <td>NaN</td>\n",
       "      <td>370</td>\n",
       "      <td>0</td>\n",
       "      <td>0</td>\n",
       "      <td>1.0</td>\n",
       "      <td>0.0</td>\n",
       "      <td>0.0</td>\n",
       "      <td>18</td>\n",
       "      <td>2</td>\n",
       "      <td>3</td>\n",
       "      <td>...</td>\n",
       "      <td>0</td>\n",
       "      <td>1.0</td>\n",
       "      <td>0</td>\n",
       "      <td>0</td>\n",
       "      <td>0</td>\n",
       "      <td>0.0</td>\n",
       "      <td>0.0</td>\n",
       "      <td>2</td>\n",
       "      <td>38</td>\n",
       "      <td>13.0</td>\n",
       "    </tr>\n",
       "    <tr>\n",
       "      <th>4</th>\n",
       "      <td>NaN</td>\n",
       "      <td>445</td>\n",
       "      <td>0</td>\n",
       "      <td>0</td>\n",
       "      <td>1.0</td>\n",
       "      <td>0.0</td>\n",
       "      <td>0.0</td>\n",
       "      <td>49</td>\n",
       "      <td>1</td>\n",
       "      <td>0</td>\n",
       "      <td>...</td>\n",
       "      <td>0</td>\n",
       "      <td>0.0</td>\n",
       "      <td>0</td>\n",
       "      <td>0</td>\n",
       "      <td>1</td>\n",
       "      <td>1.0</td>\n",
       "      <td>0.0</td>\n",
       "      <td>2</td>\n",
       "      <td>106</td>\n",
       "      <td>13.0</td>\n",
       "    </tr>\n",
       "  </tbody>\n",
       "</table>\n",
       "<p>5 rows × 27 columns</p>\n",
       "</div>"
      ],
      "text/plain": [
       "   untouchable  pat_id  lpu_district  pers_district  MOSCOW_REGISTRATION  \\\n",
       "0          NaN       0             0              0                  1.0   \n",
       "1          NaN     224             0              0                  1.0   \n",
       "2          NaN     344             0              0                  1.0   \n",
       "3          NaN     370             0              0                  1.0   \n",
       "4          NaN     445             0              0                  1.0   \n",
       "\n",
       "   invalid  nadomnik  age_calculate_y  sovmest_deti  sovmest_lgotnik   ...    \\\n",
       "0      0.0       0.0               47             0                0   ...     \n",
       "1      0.0       0.0               50             1                1   ...     \n",
       "2      1.0       0.0               50             0                0   ...     \n",
       "3      0.0       0.0               18             2                3   ...     \n",
       "4      0.0       0.0               49             1                0   ...     \n",
       "\n",
       "   bezrab_дело на рассмотрении  COMMON_GENDER  lux1  lux2  FLAG_BESSR  \\\n",
       "0                            0            0.0     0     0           0   \n",
       "1                            0            1.0     0     0           1   \n",
       "2                            0            0.0     0     0           0   \n",
       "3                            0            1.0     0     0           0   \n",
       "4                            0            0.0     0     0           1   \n",
       "\n",
       "   HAD_APPOINTMENTS  from_region  lpu_id  district_id  target  \n",
       "0               0.0          0.0       2           38    12.0  \n",
       "1               1.0          0.0       2          106    19.0  \n",
       "2               1.0          0.0       2           96    24.0  \n",
       "3               0.0          0.0       2           38    13.0  \n",
       "4               1.0          0.0       2          106    13.0  \n",
       "\n",
       "[5 rows x 27 columns]"
      ]
     },
     "execution_count": 4,
     "metadata": {},
     "output_type": "execute_result"
    }
   ],
   "source": [
    "sc_data.head()"
   ]
  },
  {
   "cell_type": "markdown",
   "metadata": {},
   "source": [
    "### Общее число пациентов, обратившихся  в поликлинику  "
   ]
  },
  {
   "cell_type": "code",
   "execution_count": 5,
   "metadata": {
    "collapsed": false
   },
   "outputs": [
    {
     "data": {
      "text/plain": [
       "967044"
      ]
     },
     "execution_count": 5,
     "metadata": {},
     "output_type": "execute_result"
    }
   ],
   "source": [
    "len(sc_data)"
   ]
  },
  {
   "cell_type": "code",
   "execution_count": 6,
   "metadata": {
    "collapsed": false
   },
   "outputs": [
    {
     "data": {
      "text/plain": [
       "966874"
      ]
     },
     "execution_count": 6,
     "metadata": {},
     "output_type": "execute_result"
    }
   ],
   "source": [
    "# Число уникальных pat_id -- число уникальных пациентов\n",
    "sc_data['pat_id'].nunique()"
   ]
  },
  {
   "cell_type": "code",
   "execution_count": 7,
   "metadata": {
    "collapsed": false
   },
   "outputs": [
    {
     "data": {
      "text/plain": [
       "(967044, 27)"
      ]
     },
     "execution_count": 7,
     "metadata": {},
     "output_type": "execute_result"
    }
   ],
   "source": [
    "sc_data.shape"
   ]
  },
  {
   "cell_type": "code",
   "execution_count": 8,
   "metadata": {
    "collapsed": false
   },
   "outputs": [
    {
     "data": {
      "text/plain": [
       "170"
      ]
     },
     "execution_count": 8,
     "metadata": {},
     "output_type": "execute_result"
    }
   ],
   "source": [
    "sc_data.shape[0] - sc_data['pat_id'].nunique()"
   ]
  },
  {
   "cell_type": "markdown",
   "metadata": {},
   "source": [
    "### Число одинаковых строк в исходной таблице данных<=> число клонов "
   ]
  },
  {
   "cell_type": "code",
   "execution_count": 9,
   "metadata": {
    "collapsed": false
   },
   "outputs": [
    {
     "data": {
      "text/plain": [
       "101"
      ]
     },
     "execution_count": 9,
     "metadata": {},
     "output_type": "execute_result"
    }
   ],
   "source": [
    "np.sum(sc_data.duplicated())"
   ]
  },
  {
   "cell_type": "markdown",
   "metadata": {},
   "source": [
    "Прикол конечно, но в таблице 101 дубликат."
   ]
  },
  {
   "cell_type": "code",
   "execution_count": 10,
   "metadata": {
    "collapsed": true
   },
   "outputs": [],
   "source": [
    "col_names = np.array(sc_data.columns)"
   ]
  },
  {
   "cell_type": "code",
   "execution_count": 11,
   "metadata": {
    "collapsed": true
   },
   "outputs": [],
   "source": [
    "col_names[11] = 'sphere_new_School' #признак -- работник образования\n",
    "col_names[12] = 'sphere_new_hospital' #признак -- работник здравохранения\n",
    "col_names[13] = 'sphere_new_sotszaschita' #признак -- соц работник \n",
    "col_names[14] = 'sphere_ZHKH' ##работник ЖКХ\n",
    "col_names[15] = 'bezrab_now'\n",
    "col_names[16] = 'bezrab_2015'\n",
    "col_names[17] = 'bezrab_may_be'"
   ]
  },
  {
   "cell_type": "code",
   "execution_count": 12,
   "metadata": {
    "collapsed": false
   },
   "outputs": [],
   "source": [
    "sc_data.columns = col_names"
   ]
  },
  {
   "cell_type": "code",
   "execution_count": 13,
   "metadata": {
    "collapsed": false
   },
   "outputs": [
    {
     "data": {
      "text/plain": [
       "untouchable                float64\n",
       "pat_id                       int64\n",
       "lpu_district                 int64\n",
       "pers_district                int64\n",
       "MOSCOW_REGISTRATION        float64\n",
       "invalid                    float64\n",
       "nadomnik                   float64\n",
       "age_calculate_y              int64\n",
       "sovmest_deti                 int64\n",
       "sovmest_lgotnik              int64\n",
       "sovmest_pens                 int64\n",
       "sphere_new_School            int64\n",
       "sphere_new_hospital          int64\n",
       "sphere_new_sotszaschita      int64\n",
       "sphere_ZHKH                  int64\n",
       "bezrab_now                   int64\n",
       "bezrab_2015                  int64\n",
       "bezrab_may_be                int64\n",
       "COMMON_GENDER              float64\n",
       "lux1                         int64\n",
       "lux2                         int64\n",
       "FLAG_BESSR                   int64\n",
       "HAD_APPOINTMENTS           float64\n",
       "from_region                float64\n",
       "lpu_id                       int64\n",
       "district_id                  int64\n",
       "target                     float64\n",
       "dtype: object"
      ]
     },
     "execution_count": 13,
     "metadata": {},
     "output_type": "execute_result"
    }
   ],
   "source": [
    "sc_data.dtypes"
   ]
  },
  {
   "cell_type": "markdown",
   "metadata": {},
   "source": [
    "все признаки имеют числовые значения"
   ]
  },
  {
   "cell_type": "code",
   "execution_count": 14,
   "metadata": {
    "collapsed": false
   },
   "outputs": [
    {
     "data": {
      "text/plain": [
       "array([2, 4])"
      ]
     },
     "execution_count": 14,
     "metadata": {},
     "output_type": "execute_result"
    }
   ],
   "source": [
    "ufo_indexes = sc_data.groupby('pat_id').size()[sc_data.groupby('pat_id').size()>1]\n",
    "#индексы повторяшки (как известно в базах данных индексы должны быть уникальными, \n",
    "# в нашем случае мы имееем противное\n",
    "\n",
    "#какие-то пациенты встречаются 2 раза, какие-то 4 раза\n",
    "ufo_indexes.unique()"
   ]
  },
  {
   "cell_type": "code",
   "execution_count": 15,
   "metadata": {
    "collapsed": false
   },
   "outputs": [
    {
     "data": {
      "text/plain": [
       "168"
      ]
     },
     "execution_count": 15,
     "metadata": {},
     "output_type": "execute_result"
    }
   ],
   "source": [
    "#Число индексов повторяшек \n",
    "len(ufo_indexes)"
   ]
  },
  {
   "cell_type": "code",
   "execution_count": 16,
   "metadata": {
    "collapsed": false
   },
   "outputs": [
    {
     "data": {
      "text/plain": [
       "67"
      ]
     },
     "execution_count": 16,
     "metadata": {},
     "output_type": "execute_result"
    }
   ],
   "source": [
    "#Число индексов повторяшек без учёта абсолютных дубликатов\n",
    "len(ufo_indexes) - np.sum(sc_data.duplicated())"
   ]
  },
  {
   "cell_type": "markdown",
   "metadata": {},
   "source": [
    "### Есть ли Nan?"
   ]
  },
  {
   "cell_type": "code",
   "execution_count": 17,
   "metadata": {
    "collapsed": false
   },
   "outputs": [
    {
     "data": {
      "text/plain": [
       "untouchable                756068\n",
       "pat_id                          0\n",
       "lpu_district                    0\n",
       "pers_district                   0\n",
       "MOSCOW_REGISTRATION             0\n",
       "invalid                         0\n",
       "nadomnik                        0\n",
       "age_calculate_y                 0\n",
       "sovmest_deti                    0\n",
       "sovmest_lgotnik                 0\n",
       "sovmest_pens                    0\n",
       "sphere_new_School               0\n",
       "sphere_new_hospital             0\n",
       "sphere_new_sotszaschita         0\n",
       "sphere_ZHKH                     0\n",
       "bezrab_now                      0\n",
       "bezrab_2015                     0\n",
       "bezrab_may_be                   0\n",
       "COMMON_GENDER                   0\n",
       "lux1                            0\n",
       "lux2                            0\n",
       "FLAG_BESSR                      0\n",
       "HAD_APPOINTMENTS                0\n",
       "from_region                     0\n",
       "lpu_id                          0\n",
       "district_id                     0\n",
       "target                          0\n",
       "dtype: int64"
      ]
     },
     "execution_count": 17,
     "metadata": {},
     "output_type": "execute_result"
    }
   ],
   "source": [
    "np.sum(pd.isnull(sc_data)) #количество пропущенных значений в каждом столбце"
   ]
  },
  {
   "cell_type": "markdown",
   "metadata": {},
   "source": [
    "### Таким образом, пропуски есть только в untouchable"
   ]
  },
  {
   "cell_type": "markdown",
   "metadata": {},
   "source": [
    "## Отношение пациентов к смене участка"
   ]
  },
  {
   "cell_type": "code",
   "execution_count": 18,
   "metadata": {
    "collapsed": false
   },
   "outputs": [
    {
     "name": "stdout",
     "output_type": "stream",
     "text": [
      "nan  756068\n",
      "0.0  196459\n",
      "1.0  14517\n"
     ]
    }
   ],
   "source": [
    "for value in sc_data['untouchable'].unique():\n",
    "    if np.isnan(value):\n",
    "        print(str(value) + '  ' + str(np.sum(np.isnan(sc_data['untouchable']))))\n",
    "    else:\n",
    "        print(str(value) + '  ' + str(np.sum(sc_data['untouchable']==value)))"
   ]
  },
  {
   "cell_type": "markdown",
   "metadata": {},
   "source": [
    "В основном про людей не известно, как они отнесутся к переходу к другому участку.\n",
    "\n",
    "Видется 4 пути замены nan:\n",
    "1. nan = 0, если они не возмущаются их можно переселять хоть на марс(простой выход и выгодный, чем больше людей можно переносить, тем больше у нас свободы действий)\n",
    "2. nan = 1, если они не согласились, значит не будем их трогать(наихудший для нас вариант и для людей)\n",
    "3. nan = 2 -- ввод класса затрудняющихся c выбором\n",
    "4. Построить по имеющимся данным классификатор, который относит nan'ов к 0 или 1.    \n",
    "\n"
   ]
  },
  {
   "cell_type": "code",
   "execution_count": 19,
   "metadata": {
    "collapsed": false
   },
   "outputs": [
    {
     "name": "stdout",
     "output_type": "stream",
     "text": [
      "untouchable: 2\n",
      "pat_id: 966874\n",
      "lpu_district: 46\n",
      "pers_district: 140\n",
      "MOSCOW_REGISTRATION: 2\n",
      "invalid: 2\n",
      "nadomnik: 2\n",
      "age_calculate_y: 104\n",
      "sovmest_deti: 44\n",
      "sovmest_lgotnik: 65\n",
      "sovmest_pens: 26\n",
      "sphere_new_School: 2\n",
      "sphere_new_hospital: 2\n",
      "sphere_new_sotszaschita: 2\n",
      "sphere_ZHKH: 2\n",
      "bezrab_now: 2\n",
      "bezrab_2015: 2\n",
      "bezrab_may_be: 2\n",
      "COMMON_GENDER: 2\n",
      "lux1: 2\n",
      "lux2: 2\n",
      "FLAG_BESSR: 2\n",
      "HAD_APPOINTMENTS: 2\n",
      "from_region: 2\n",
      "lpu_id: 22\n",
      "district_id: 479\n",
      "target: 60\n"
     ]
    }
   ],
   "source": [
    "def num_cat(data):\n",
    "    for name in data.columns:\n",
    "        print(str(name) + ':' + ' '+ str(data[name].nunique()))\n",
    "#Количество уникальных значений\n",
    "num_cat(sc_data)"
   ]
  },
  {
   "cell_type": "markdown",
   "metadata": {},
   "source": [
    "# Корреляционная карта."
   ]
  },
  {
   "cell_type": "code",
   "execution_count": 20,
   "metadata": {
    "collapsed": false
   },
   "outputs": [
    {
     "data": {
      "text/plain": [
       "<matplotlib.axes._subplots.AxesSubplot at 0x7f3cb26426d8>"
      ]
     },
     "execution_count": 20,
     "metadata": {},
     "output_type": "execute_result"
    },
    {
     "data": {
      "image/png": "[encoded data removed]",
      "text/plain": [
       "<matplotlib.figure.Figure at 0x7f3cb25ca400>"
      ]
     },
     "metadata": {},
     "output_type": "display_data"
    }
   ],
   "source": [
    "corr = abs(sc_data.corr())\n",
    "sns.heatmap(corr, \n",
    "            xticklabels=corr.columns.values,\n",
    "            yticklabels=corr.columns.values, annot=False, cmap='YlGnBu')"
   ]
  },
  {
   "cell_type": "code",
   "execution_count": 21,
   "metadata": {
    "collapsed": false
   },
   "outputs": [
    {
     "name": "stdout",
     "output_type": "stream",
     "text": [
      "lpu_district and district_id = 0.83\n",
      "pat_id and lpu_district = 0.82\n",
      "sovmest_lgotnik and sovmest_pens = 0.69\n",
      "pat_id and district_id = 0.68\n",
      "sovmest_deti and sovmest_lgotnik = 0.54\n",
      "untouchable and target = 0.51\n"
     ]
    }
   ],
   "source": [
    "# Отберём высокоррелированные признаки.\n",
    "#Порог для выбора высококоррелированных признаков\n",
    "threshold = 0.5\n",
    "\n",
    "#Список под хранение пар высококоррелированных признаков\n",
    "corr_list = []\n",
    "\n",
    "#Поиск высококорелированных признаков\n",
    "for i in range(0,len(corr.columns)): \n",
    "    for j in range(i+1,len(corr.columns)): \n",
    "        if (corr.iloc[i,j] >= threshold and corr.iloc[i,j] < 1) or (corr.iloc[i,j] < 0 and corr.iloc[i,j] <= -threshold):\n",
    "            corr_list.append([corr.iloc[i,j],i,j])\n",
    "\n",
    "#Сортировка в порядке убывания коэффициентов корреляции            \n",
    "s_corr_list = sorted(corr_list,key=lambda x: -abs(x[0]))\n",
    "\n",
    "#Print correlations and column names\n",
    "for v,i,j in s_corr_list:\n",
    "    print (\"%s and %s = %.2f\" % (corr.columns[i],corr.columns[j],v))"
   ]
  },
  {
   "cell_type": "markdown",
   "metadata": {},
   "source": [
    "### Приблизительно 100 000 тысяч пациентов не имеют московской прописки."
   ]
  },
  {
   "cell_type": "code",
   "execution_count": 22,
   "metadata": {
    "collapsed": false
   },
   "outputs": [
    {
     "name": "stdout",
     "output_type": "stream",
     "text": [
      "[ 1.  0.]\n"
     ]
    },
    {
     "data": {
      "text/plain": [
       "<matplotlib.axes._subplots.AxesSubplot at 0x7f3cb2506ba8>"
      ]
     },
     "execution_count": 22,
     "metadata": {},
     "output_type": "execute_result"
    },
    {
     "data": {
      "image/png": "[encoded data removed]",
      "text/plain": [
       "<matplotlib.figure.Figure at 0x7f3cb2519da0>"
      ]
     },
     "metadata": {},
     "output_type": "display_data"
    }
   ],
   "source": [
    "print(sc_data['MOSCOW_REGISTRATION'].unique())\n",
    "sc_data['MOSCOW_REGISTRATION'].hist()"
   ]
  },
  {
   "cell_type": "markdown",
   "metadata": {},
   "source": [
    "## Больше половины людей не появлялись в поликлинике за 2 последних года. "
   ]
  },
  {
   "cell_type": "code",
   "execution_count": 23,
   "metadata": {
    "collapsed": false
   },
   "outputs": [
    {
     "data": {
      "text/plain": [
       "<matplotlib.axes._subplots.AxesSubplot at 0x7f3cad3bef28>"
      ]
     },
     "execution_count": 23,
     "metadata": {},
     "output_type": "execute_result"
    },
    {
     "data": {
      "image/png": "[encoded data removed]",
      "text/plain": [
       "<matplotlib.figure.Figure at 0x7f3cad3c81d0>"
      ]
     },
     "metadata": {},
     "output_type": "display_data"
    }
   ],
   "source": [
    "sc_data['HAD_APPOINTMENTS'].hist()"
   ]
  },
  {
   "cell_type": "code",
   "execution_count": 24,
   "metadata": {
    "collapsed": false
   },
   "outputs": [
    {
     "name": "stdout",
     "output_type": "stream",
     "text": [
      "11.824823356401069\n"
     ]
    },
    {
     "data": {
      "text/plain": [
       "<matplotlib.axes._subplots.AxesSubplot at 0x7f3cad46c240>"
      ]
     },
     "execution_count": 24,
     "metadata": {},
     "output_type": "execute_result"
    },
    {
     "data": {
      "image/png": "[encoded data removed]",
      "text/plain": [
       "<matplotlib.figure.Figure at 0x7f3cad348c18>"
      ]
     },
     "metadata": {},
     "output_type": "display_data"
    }
   ],
   "source": [
    "#Хоть они за 2 года ни разу не появлялись, но при этом у них у всех в среднем 12 приемов\n",
    "print(sc_data.ix[sc_data['HAD_APPOINTMENTS'] == 0,'target'].mean())\n",
    "sc_data.ix[sc_data['HAD_APPOINTMENTS']==0,'target'].hist(bins=15)"
   ]
  },
  {
   "cell_type": "code",
   "execution_count": 25,
   "metadata": {
    "collapsed": false
   },
   "outputs": [
    {
     "name": "stdout",
     "output_type": "stream",
     "text": [
      "14.905119625831984\n"
     ]
    },
    {
     "data": {
      "text/plain": [
       "<matplotlib.axes._subplots.AxesSubplot at 0x7f3cad36b0b8>"
      ]
     },
     "execution_count": 25,
     "metadata": {},
     "output_type": "execute_result"
    },
    {
     "data": {
      "image/png": "[encoded data removed]",
      "text/plain": [
       "<matplotlib.figure.Figure at 0x7f3cad3aeeb8>"
      ]
     },
     "metadata": {},
     "output_type": "display_data"
    }
   ],
   "source": [
    "#Люди, которые посещали за 2 года хотя бы раз, тоже в среднем имеют столько же посещений\n",
    "print(sc_data.ix[sc_data['HAD_APPOINTMENTS']==1,'target'].mean())\n",
    "sc_data.ix[sc_data['HAD_APPOINTMENTS']==1,'target'].hist(bins=20)"
   ]
  },
  {
   "cell_type": "code",
   "execution_count": 26,
   "metadata": {
    "collapsed": false
   },
   "outputs": [
    {
     "name": "stdout",
     "output_type": "stream",
     "text": [
      "47.4649321328658\n"
     ]
    },
    {
     "data": {
      "text/plain": [
       "<matplotlib.axes._subplots.AxesSubplot at 0x7f3cad2c7be0>"
      ]
     },
     "execution_count": 26,
     "metadata": {},
     "output_type": "execute_result"
    },
    {
     "data": {
      "image/png": "[encoded data removed]",
      "text/plain": [
       "<matplotlib.figure.Figure at 0x7f3cad2b49b0>"
      ]
     },
     "metadata": {},
     "output_type": "display_data"
    }
   ],
   "source": [
    "#Средний возраст пациента, который за 2 года ни разу не посетил поликлинику\n",
    "print(sc_data.ix[sc_data['HAD_APPOINTMENTS']==0,'age_calculate_y'].mean())\n",
    "#Распределение числа пациентов, которые за 2 года ни разу не посетили поликлинику, по их возрасту\n",
    "sc_data.ix[sc_data['HAD_APPOINTMENTS']==0,'age_calculate_y'].hist(bins=50,range=[10, 110])"
   ]
  },
  {
   "cell_type": "code",
   "execution_count": 27,
   "metadata": {
    "collapsed": false
   },
   "outputs": [
    {
     "name": "stdout",
     "output_type": "stream",
     "text": [
      "50.63218804341308\n"
     ]
    },
    {
     "data": {
      "text/plain": [
       "<matplotlib.axes._subplots.AxesSubplot at 0x7f3cad2e3d68>"
      ]
     },
     "execution_count": 27,
     "metadata": {},
     "output_type": "execute_result"
    },
    {
     "data": {
      "image/png": "[encoded data removed]",
      "text/plain": [
       "<matplotlib.figure.Figure at 0x7f3cad10e978>"
      ]
     },
     "metadata": {},
     "output_type": "display_data"
    }
   ],
   "source": [
    "#Средний возраст пациента, который посещал за 2 года хотя бы раз поликлинику\n",
    "print(sc_data.ix[sc_data['HAD_APPOINTMENTS']==1,'age_calculate_y'].mean())\n",
    "#Распределение числа пациентов, которые за 2 года хотя бы раз посетили поликлинику, по их возрасту\n",
    "sc_data.ix[sc_data['HAD_APPOINTMENTS']==1,'age_calculate_y'].hist(bins=50,range=[10, 110])"
   ]
  },
  {
   "cell_type": "code",
   "execution_count": 28,
   "metadata": {
    "collapsed": false
   },
   "outputs": [
    {
     "data": {
      "text/plain": [
       "1403"
      ]
     },
     "execution_count": 28,
     "metadata": {},
     "output_type": "execute_result"
    }
   ],
   "source": [
    "#очень мало вип персон\n",
    "np.sum(sc_data['lux1']==1) + np.sum(sc_data['lux2']==1)"
   ]
  },
  {
   "cell_type": "code",
   "execution_count": 29,
   "metadata": {
    "collapsed": false
   },
   "outputs": [
    {
     "data": {
      "text/html": [
       "<div>\n",
       "<table border=\"1\" class=\"dataframe\">\n",
       "  <thead>\n",
       "    <tr style=\"text-align: right;\">\n",
       "      <th></th>\n",
       "      <th>untouchable</th>\n",
       "      <th>pat_id</th>\n",
       "      <th>lpu_district</th>\n",
       "      <th>pers_district</th>\n",
       "      <th>MOSCOW_REGISTRATION</th>\n",
       "      <th>invalid</th>\n",
       "      <th>nadomnik</th>\n",
       "      <th>age_calculate_y</th>\n",
       "      <th>sovmest_deti</th>\n",
       "      <th>sovmest_lgotnik</th>\n",
       "      <th>...</th>\n",
       "      <th>bezrab_2015</th>\n",
       "      <th>bezrab_may_be</th>\n",
       "      <th>COMMON_GENDER</th>\n",
       "      <th>lux2</th>\n",
       "      <th>FLAG_BESSR</th>\n",
       "      <th>HAD_APPOINTMENTS</th>\n",
       "      <th>from_region</th>\n",
       "      <th>lpu_id</th>\n",
       "      <th>district_id</th>\n",
       "      <th>target</th>\n",
       "    </tr>\n",
       "    <tr>\n",
       "      <th>lux1</th>\n",
       "      <th></th>\n",
       "      <th></th>\n",
       "      <th></th>\n",
       "      <th></th>\n",
       "      <th></th>\n",
       "      <th></th>\n",
       "      <th></th>\n",
       "      <th></th>\n",
       "      <th></th>\n",
       "      <th></th>\n",
       "      <th></th>\n",
       "      <th></th>\n",
       "      <th></th>\n",
       "      <th></th>\n",
       "      <th></th>\n",
       "      <th></th>\n",
       "      <th></th>\n",
       "      <th></th>\n",
       "      <th></th>\n",
       "      <th></th>\n",
       "      <th></th>\n",
       "    </tr>\n",
       "  </thead>\n",
       "  <tbody>\n",
       "    <tr>\n",
       "      <th>0</th>\n",
       "      <td>0.068846</td>\n",
       "      <td>483380.759449</td>\n",
       "      <td>16.982433</td>\n",
       "      <td>31.707282</td>\n",
       "      <td>0.919594</td>\n",
       "      <td>0.116194</td>\n",
       "      <td>0.01061</td>\n",
       "      <td>48.830427</td>\n",
       "      <td>0.634278</td>\n",
       "      <td>1.242329</td>\n",
       "      <td>...</td>\n",
       "      <td>0.009789</td>\n",
       "      <td>0.001446</td>\n",
       "      <td>0.427025</td>\n",
       "      <td>0.000376</td>\n",
       "      <td>0.120714</td>\n",
       "      <td>0.431387</td>\n",
       "      <td>0.306964</td>\n",
       "      <td>12.214772</td>\n",
       "      <td>223.010793</td>\n",
       "      <td>13.153999</td>\n",
       "    </tr>\n",
       "    <tr>\n",
       "      <th>1</th>\n",
       "      <td>0.000000</td>\n",
       "      <td>507892.625243</td>\n",
       "      <td>19.439806</td>\n",
       "      <td>39.398058</td>\n",
       "      <td>0.973786</td>\n",
       "      <td>0.039806</td>\n",
       "      <td>0.00000</td>\n",
       "      <td>48.844660</td>\n",
       "      <td>0.907767</td>\n",
       "      <td>1.435922</td>\n",
       "      <td>...</td>\n",
       "      <td>0.002913</td>\n",
       "      <td>0.000971</td>\n",
       "      <td>0.451456</td>\n",
       "      <td>0.009709</td>\n",
       "      <td>0.045631</td>\n",
       "      <td>0.193204</td>\n",
       "      <td>0.436893</td>\n",
       "      <td>11.836893</td>\n",
       "      <td>246.390291</td>\n",
       "      <td>12.067961</td>\n",
       "    </tr>\n",
       "  </tbody>\n",
       "</table>\n",
       "<p>2 rows × 26 columns</p>\n",
       "</div>"
      ],
      "text/plain": [
       "      untouchable         pat_id  lpu_district  pers_district  \\\n",
       "lux1                                                            \n",
       "0        0.068846  483380.759449     16.982433      31.707282   \n",
       "1        0.000000  507892.625243     19.439806      39.398058   \n",
       "\n",
       "      MOSCOW_REGISTRATION   invalid  nadomnik  age_calculate_y  sovmest_deti  \\\n",
       "lux1                                                                           \n",
       "0                0.919594  0.116194   0.01061        48.830427      0.634278   \n",
       "1                0.973786  0.039806   0.00000        48.844660      0.907767   \n",
       "\n",
       "      sovmest_lgotnik    ...      bezrab_2015  bezrab_may_be  COMMON_GENDER  \\\n",
       "lux1                     ...                                                  \n",
       "0            1.242329    ...         0.009789       0.001446       0.427025   \n",
       "1            1.435922    ...         0.002913       0.000971       0.451456   \n",
       "\n",
       "          lux2  FLAG_BESSR  HAD_APPOINTMENTS  from_region     lpu_id  \\\n",
       "lux1                                                                   \n",
       "0     0.000376    0.120714          0.431387     0.306964  12.214772   \n",
       "1     0.009709    0.045631          0.193204     0.436893  11.836893   \n",
       "\n",
       "      district_id     target  \n",
       "lux1                          \n",
       "0      223.010793  13.153999  \n",
       "1      246.390291  12.067961  \n",
       "\n",
       "[2 rows x 26 columns]"
      ]
     },
     "execution_count": 29,
     "metadata": {},
     "output_type": "execute_result"
    }
   ],
   "source": [
    "sc_data.groupby('lux1').mean()"
   ]
  },
  {
   "cell_type": "code",
   "execution_count": 30,
   "metadata": {
    "collapsed": false
   },
   "outputs": [
    {
     "data": {
      "text/plain": [
       "<seaborn.axisgrid.FacetGrid at 0x7f3cad0ecc88>"
      ]
     },
     "execution_count": 30,
     "metadata": {},
     "output_type": "execute_result"
    },
    {
     "data": {
      "image/png": "[encoded data removed]",
      "text/plain": [
       "<matplotlib.figure.Figure at 0x7f3cad0ec5f8>"
      ]
     },
     "metadata": {},
     "output_type": "display_data"
    }
   ],
   "source": [
    "sns.lmplot(x='age_calculate_y', y='target', data=sc_data.ix[sc_data['age_calculate_y']<150,:], palette='Blues',fit_reg=False)\n",
    "#sns.scatter(sc_data['age_calculate_y'],sc_data['target'])"
   ]
  },
  {
   "cell_type": "code",
   "execution_count": 31,
   "metadata": {
    "collapsed": false
   },
   "outputs": [
    {
     "name": "stdout",
     "output_type": "stream",
     "text": [
      "8\n"
     ]
    },
    {
     "data": {
      "text/plain": [
       "<matplotlib.axes._subplots.AxesSubplot at 0x7f3cad03b3c8>"
      ]
     },
     "execution_count": 31,
     "metadata": {},
     "output_type": "execute_result"
    },
    {
     "data": {
      "image/png": "[encoded data removed]",
      "text/plain": [
       "<matplotlib.figure.Figure at 0x7f3cad101160>"
      ]
     },
     "metadata": {},
     "output_type": "display_data"
    }
   ],
   "source": [
    "#Количество пациентов, возраст которых больше 950 лет))\n",
    "print( sc_data.ix[sc_data['age_calculate_y']>950,'age_calculate_y'].count())\n",
    "sc_data.ix[sc_data['age_calculate_y']>950,'age_calculate_y'].hist(bins=50)"
   ]
  },
  {
   "cell_type": "code",
   "execution_count": 32,
   "metadata": {
    "collapsed": false
   },
   "outputs": [
    {
     "data": {
      "text/plain": [
       "<matplotlib.axes._subplots.AxesSubplot at 0x7f3cacf78c50>"
      ]
     },
     "execution_count": 32,
     "metadata": {},
     "output_type": "execute_result"
    },
    {
     "data": {
      "image/png": "[encoded data removed]",
      "text/plain": [
       "<matplotlib.figure.Figure at 0x7f3cad080b38>"
      ]
     },
     "metadata": {},
     "output_type": "display_data"
    }
   ],
   "source": [
    "# Распределение количества людей по их возрасту\n",
    "sc_data.ix[sc_data['age_calculate_y']<150,'age_calculate_y'].hist(bins=50)"
   ]
  },
  {
   "cell_type": "code",
   "execution_count": 33,
   "metadata": {
    "collapsed": false
   },
   "outputs": [
    {
     "name": "stdout",
     "output_type": "stream",
     "text": [
      "[  0   1   2   3   4   6   5   7   8  11  15  23  10  12  14   9  89  13\n",
      "  29  49  16  24  28  19  62  20  26  30  18  58  27  32  34  17  31  25\n",
      "  33  43  22  44  37  99 134  21]\n"
     ]
    }
   ],
   "source": [
    "#Уникальные значения количества совместно проживающих детей до 14 лет\n",
    "print(sc_data['sovmest_deti'].unique())"
   ]
  },
  {
   "cell_type": "code",
   "execution_count": 34,
   "metadata": {
    "collapsed": false
   },
   "outputs": [
    {
     "data": {
      "text/plain": [
       "<matplotlib.axes._subplots.AxesSubplot at 0x7f3cacdc8eb8>"
      ]
     },
     "execution_count": 34,
     "metadata": {},
     "output_type": "execute_result"
    },
    {
     "data": {
      "image/png": "[encoded data removed]",
      "text/plain": [
       "<matplotlib.figure.Figure at 0x7f3cad3e3588>"
      ]
     },
     "metadata": {},
     "output_type": "display_data"
    }
   ],
   "source": [
    "#Распределение числа пациентов, у которых количество детей до 14 лет больше 20\n",
    "sc_data.ix[sc_data['sovmest_deti']>2*10.0,'sovmest_deti'].hist(bins=20)"
   ]
  },
  {
   "cell_type": "code",
   "execution_count": 35,
   "metadata": {
    "collapsed": false
   },
   "outputs": [
    {
     "data": {
      "text/plain": [
       "222"
      ]
     },
     "execution_count": 35,
     "metadata": {},
     "output_type": "execute_result"
    }
   ],
   "source": [
    "#Число пациентов, у которых число совместно проживающих детей больше 20\n",
    "len(sc_data.ix[sc_data['sovmest_deti']>20,'sovmest_deti'])"
   ]
  },
  {
   "cell_type": "code",
   "execution_count": 36,
   "metadata": {
    "collapsed": false
   },
   "outputs": [
    {
     "name": "stdout",
     "output_type": "stream",
     "text": [
      "[  0   1   3   2   4   5   9   7   6   8  10  21  20  32  14  13 121  16\n",
      "  17  15  12  34  19  11  30  18  26  37  33  24  35 120  29  45  23  58\n",
      "  90  51  47  39  25 192  54  31  22  64  63  44  50  57 102  62  42  46\n",
      "  85  27  28  36 119  65 414  55  48  89 101]\n"
     ]
    }
   ],
   "source": [
    "#Уникальные значения количества совместно льготников\n",
    "print(sc_data['sovmest_lgotnik'].unique())"
   ]
  },
  {
   "cell_type": "code",
   "execution_count": 37,
   "metadata": {
    "collapsed": false
   },
   "outputs": [
    {
     "data": {
      "text/plain": [
       "<matplotlib.axes._subplots.AxesSubplot at 0x7f3cacd6ef98>"
      ]
     },
     "execution_count": 37,
     "metadata": {},
     "output_type": "execute_result"
    },
    {
     "data": {
      "image/png": "[encoded data removed]",
      "text/plain": [
       "<matplotlib.figure.Figure at 0x7f3cacd8c208>"
      ]
     },
     "metadata": {},
     "output_type": "display_data"
    }
   ],
   "source": [
    "#Распределение числа пациентов, у которых количество совместно проживающих с ними льготников больше 20\n",
    "sc_data.ix[sc_data['sovmest_lgotnik']>20,'sovmest_lgotnik'].hist(bins=20)"
   ]
  },
  {
   "cell_type": "code",
   "execution_count": 38,
   "metadata": {
    "collapsed": false
   },
   "outputs": [
    {
     "data": {
      "text/plain": [
       "123"
      ]
     },
     "execution_count": 38,
     "metadata": {},
     "output_type": "execute_result"
    }
   ],
   "source": [
    "#Число пациентов, которые  совместно проживают с более 50 льготниками\n",
    "len(sc_data.ix[sc_data['sovmest_lgotnik']>49,'sovmest_lgotnik'])"
   ]
  },
  {
   "cell_type": "code",
   "execution_count": 39,
   "metadata": {
    "collapsed": false
   },
   "outputs": [
    {
     "name": "stdout",
     "output_type": "stream",
     "text": [
      "[ 0  1  2  3  4  5  7  6 11 17  9 13 48 15 14  8 12 10 27 18 19 47 16 25 23\n",
      " 55]\n"
     ]
    }
   ],
   "source": [
    "print(sc_data['sovmest_pens'].unique())\n"
   ]
  },
  {
   "cell_type": "code",
   "execution_count": 40,
   "metadata": {
    "collapsed": false
   },
   "outputs": [
    {
     "data": {
      "text/plain": [
       "<matplotlib.axes._subplots.AxesSubplot at 0x7f3cacc684a8>"
      ]
     },
     "execution_count": 40,
     "metadata": {},
     "output_type": "execute_result"
    },
    {
     "data": {
      "image/png": "[encoded data removed]",
      "text/plain": [
       "<matplotlib.figure.Figure at 0x7f3cace93ef0>"
      ]
     },
     "metadata": {},
     "output_type": "display_data"
    }
   ],
   "source": [
    "sc_data.ix[sc_data['sovmest_pens']>10,'sovmest_pens'].hist(bins=20)"
   ]
  },
  {
   "cell_type": "markdown",
   "metadata": {},
   "source": [
    "# 1 путь замены NaN: NaN = 0"
   ]
  },
  {
   "cell_type": "markdown",
   "metadata": {},
   "source": [
    "### Очистка данных от мусора"
   ]
  },
  {
   "cell_type": "code",
   "execution_count": 41,
   "metadata": {
    "collapsed": false
   },
   "outputs": [
    {
     "name": "stdout",
     "output_type": "stream",
     "text": [
      "(967044, 27)\n",
      "(966943, 27)\n",
      "(966935, 27)\n",
      "(966767, 27)\n",
      "(966767,)\n",
      "(966767, 25)\n"
     ]
    },
    {
     "data": {
      "text/plain": [
       "False"
      ]
     },
     "execution_count": 41,
     "metadata": {},
     "output_type": "execute_result"
    }
   ],
   "source": [
    "print(sc_data.shape)\n",
    "\n",
    "X = sc_data.drop_duplicates()\n",
    "print(X.shape)\n",
    "\n",
    "X = X[X['age_calculate_y']<150]\n",
    "print(X.shape)\n",
    "\n",
    "X = X.drop(ufo_indexes.index, axis=0)\n",
    "print(X.shape)\n",
    "\n",
    "y = X['target']\n",
    "print(y.shape)\n",
    "\n",
    "X = X.drop(['pat_id','target'], axis=1)\n",
    "print(X.shape)\n",
    "\n",
    "\n",
    "X['untouchable'].fillna(0, inplace=True)\n",
    "\n",
    "X.isnull().values.any()"
   ]
  },
  {
   "cell_type": "markdown",
   "metadata": {},
   "source": [
    "## Суммарное количество визитов пациентами"
   ]
  },
  {
   "cell_type": "code",
   "execution_count": 42,
   "metadata": {
    "collapsed": false
   },
   "outputs": [
    {
     "name": "stdout",
     "output_type": "stream",
     "text": [
      "12715768.0\n"
     ]
    }
   ],
   "source": [
    "SUM_target = y.sum()\n",
    "print(SUM_target)"
   ]
  },
  {
   "cell_type": "markdown",
   "metadata": {},
   "source": [
    "# Как меняется с возрастом вероятность визита к врачу?"
   ]
  },
  {
   "cell_type": "code",
   "execution_count": 43,
   "metadata": {
    "collapsed": false
   },
   "outputs": [
    {
     "data": {
      "image/png": "[encoded data removed]",
      "text/plain": [
       "<matplotlib.figure.Figure at 0x7f3cacdb2f28>"
      ]
     },
     "metadata": {},
     "output_type": "display_data"
    }
   ],
   "source": [
    "ages=[]\n",
    "probabilities=[]\n",
    "for i in range(10,100):\n",
    "    Xy=pd.concat([X,y],1)\n",
    "    ages+=[i]\n",
    "    probabilities+=[(Xy['target'][Xy['age_calculate_y']==i]).sum()/SUM_target]\n",
    "plt.title('Вероятность визита к врачу в зависимости от возраста')\n",
    "plt.plot(ages, probabilities,linewidth=3.0,color = 'red')\n",
    "axes = plt.gca()\n",
    "plt.xlabel('Age')\n",
    "plt.ylabel('Probability')\n",
    "plt.show()"
   ]
  },
  {
   "cell_type": "code",
   "execution_count": 44,
   "metadata": {
    "collapsed": true
   },
   "outputs": [],
   "source": [
    "def mae(true,predict):\n",
    "    return mean_absolute_error(true,predict)\n",
    "\n",
    "def mse(true,predict):\n",
    "    return mean_squared_error(true,predict)\n",
    "\n",
    "def cross_validation(estimator,score_func,X,y,N_folds=3):\n",
    "    score = cross_val_score(estimator, X=X, y=y, scoring=make_scorer(score_func=score_func, greater_is_better=False), \n",
    "                             cv=N_folds, verbose=0, pre_dispatch=1)\n",
    "    return np.mean(score)\n"
   ]
  },
  {
   "cell_type": "markdown",
   "metadata": {},
   "source": [
    "## Построение модели.\n",
    "\n",
    "# GBM."
   ]
  },
  {
   "cell_type": "code",
   "execution_count": 45,
   "metadata": {
    "collapsed": false
   },
   "outputs": [
    {
     "name": "stdout",
     "output_type": "stream",
     "text": [
      "Train shape (773413, 25)\n",
      "Validation shape (193354, 25)\n",
      "On cross-validation:\n",
      "MAE: -1.48261678689\n",
      "MSE: -6.74508041508\n"
     ]
    }
   ],
   "source": [
    "X_train, X_valid, y_train, y_valid = train_test_split(X, y, test_size=0.2, random_state=42)\n",
    "print('Train shape', X_train.shape)\n",
    "print('Validation shape', X_valid.shape)\n",
    "\n",
    "GBM_reg = GBMRegressor(\n",
    "    num_iterations=500,\n",
    "    learning_rate=0.1,\n",
    "    num_leaves=10,\n",
    "    num_threads=2,\n",
    "    min_data_in_leaf=8,\n",
    "    metric='l2',\n",
    "    feature_fraction=0.8,\n",
    "    feature_fraction_seed=241,\n",
    "    bagging_fraction=0.8,\n",
    "    bagging_freq=100,\n",
    "    bagging_seed=123,\n",
    "    metric_freq=1,\n",
    "    early_stopping_round=50,\n",
    "    verbose = False\n",
    ")\n",
    "\n",
    "print('On cross-validation:')\n",
    "print(\"MAE:\",cross_validation(GBM_reg,mae,X,y))\n",
    "print(\"MSE:\",cross_validation(GBM_reg,mse,X,y))\n"
   ]
  },
  {
   "cell_type": "code",
   "execution_count": 46,
   "metadata": {
    "collapsed": false
   },
   "outputs": [
    {
     "name": "stdout",
     "output_type": "stream",
     "text": [
      "MAE: 1.45008404946\n",
      "MSE: 6.35239760465\n"
     ]
    }
   ],
   "source": [
    "# На валидационной выборке\n",
    "GBM_reg.fit(X_train, y_train)\n",
    "print(\"MAE:\", mean_absolute_error(y_valid, GBM_reg.predict(X_valid)))\n",
    "print(\"MSE:\", mean_squared_error(y_valid, GBM_reg.predict(X_valid)))"
   ]
  },
  {
   "cell_type": "markdown",
   "metadata": {},
   "source": [
    "# Feature importance."
   ]
  },
  {
   "cell_type": "code",
   "execution_count": 47,
   "metadata": {
    "collapsed": false
   },
   "outputs": [
    {
     "data": {
      "text/plain": [
       "<matplotlib.text.Text at 0x7f3cacb49160>"
      ]
     },
     "execution_count": 47,
     "metadata": {},
     "output_type": "execute_result"
    },
    {
     "data": {
      "text/plain": [
       "<matplotlib.figure.Figure at 0x7f3cacd4ac88>"
      ]
     },
     "metadata": {},
     "output_type": "display_data"
    },
    {
     "data": {
      "image/png": "[encoded data removed]",
      "text/plain": [
       "<matplotlib.figure.Figure at 0x7f3cad02a358>"
      ]
     },
     "metadata": {},
     "output_type": "display_data"
    }
   ],
   "source": [
    "feature_list = X.columns.tolist()\n",
    "feature_dict = dict(zip(range(len(feature_list)), feature_list))\n",
    "df_fi = pd.DataFrame({\"feature\": feature_dict,'importance':GBM_reg.feature_importance()})\n",
    "df_fi = df_fi.sort_values('importance')\n",
    "del feature_dict, feature_list\n",
    "\n",
    "\n",
    "plt.figure()\n",
    "df_fi.plot(kind='barh',\n",
    "                     x='feature',\n",
    "                     y='importance',\n",
    "                     sort_columns=False,\n",
    "                     legend=False,\n",
    "                     figsize=(10, 6),\n",
    "                     facecolor='#1DE9B6',\n",
    "                     edgecolor='white')\n",
    "\n",
    "plt.title('GBM Feature Importance.')\n",
    "plt.xlabel('relative importance')"
   ]
  },
  {
   "cell_type": "markdown",
   "metadata": {},
   "source": [
    "# Байессовская оптимизация параметров."
   ]
  },
  {
   "cell_type": "code",
   "execution_count": 48,
   "metadata": {
    "collapsed": true
   },
   "outputs": [],
   "source": [
    "def GBM_reg_eval(learning_rate,num_leaves, min_data_in_leaf, feature_fraction, bagging_fraction,bagging_freq):\n",
    "    \n",
    "    GBM_reg = GBMRegressor(\n",
    "    num_iterations = 500,\n",
    "    learning_rate=learning_rate,\n",
    "    num_leaves=int(num_leaves),\n",
    "    num_threads=2,\n",
    "    min_data_in_leaf=int(min_data_in_leaf),\n",
    "    metric='l2',\n",
    "    feature_fraction=max(feature_fraction,0),\n",
    "    feature_fraction_seed=241,\n",
    "    bagging_fraction=max(bagging_fraction,0),\n",
    "    bagging_freq=int(bagging_freq),\n",
    "    bagging_seed=123,\n",
    "    metric_freq=1,\n",
    "    early_stopping_round=50,\n",
    "    verbose = False\n",
    ")\n",
    "    \n",
    "    score =  cross_val_score(GBM_reg, X=X, y=y, scoring=make_scorer(score_func=mae, greater_is_better=False), \n",
    "                             cv=5, verbose=0, pre_dispatch=1)\n",
    "    return np.array(score).mean()"
   ]
  },
  {
   "cell_type": "code",
   "execution_count": 49,
   "metadata": {
    "collapsed": false,
    "scrolled": true
   },
   "outputs": [
    {
     "name": "stdout",
     "output_type": "stream",
     "text": [
      "\u001b[31mInitialization\u001b[0m\n",
      "\u001b[94m----------------------------------------------------------------------------------------------------------------------------------------------\u001b[0m\n",
      " Step |   Time |      Value |   bagging_fraction |   bagging_freq |   feature_fraction |   learning_rate |   min_data_in_leaf |   num_leaves | \n",
      "    1 | 06m28s | \u001b[35m  -1.53167\u001b[0m | \u001b[32m            0.6468\u001b[0m | \u001b[32m        1.3879\u001b[0m | \u001b[32m            0.6653\u001b[0m | \u001b[32m         0.3061\u001b[0m | \u001b[32m          182.1516\u001b[0m | \u001b[32m    138.7631\u001b[0m | \n",
      "\u001b[31mBayesian Optimization\u001b[0m\n",
      "\u001b[94m----------------------------------------------------------------------------------------------------------------------------------------------\u001b[0m\n",
      " Step |   Time |      Value |   bagging_fraction |   bagging_freq |   feature_fraction |   learning_rate |   min_data_in_leaf |   num_leaves | \n",
      "    2 | 04m55s |   -1.61571 |             0.6296 |        34.5939 |             0.8065 |          0.5014 |            48.1775 |     104.7739 | \n",
      "CPU times: user 4min 41s, sys: 12.6 s, total: 4min 54s\n",
      "Wall time: 11min 23s\n"
     ]
    }
   ],
   "source": [
    "%%time\n",
    "num_iter = 1\n",
    "init_points = 1\n",
    "\n",
    "#Параметры, взятые в кавычки оптимизируются\n",
    "GBM_reg_BO = BayesianOptimization(GBM_reg_eval, \n",
    "                              {\n",
    "                                'learning_rate':(0,1),\n",
    "                                'num_leaves': (3, 200),\n",
    "                                'min_data_in_leaf': (2, 200),\n",
    "                                'feature_fraction': (0.6,1),\n",
    "                                'bagging_fraction': (0.6,1),\n",
    "                                'bagging_freq': (1,40),\n",
    "                              }\n",
    "                             )\n",
    "\n",
    "GBM_reg_BO.maximize(init_points=init_points, n_iter=num_iter)\n",
    "\n"
   ]
  },
  {
   "cell_type": "code",
   "execution_count": 50,
   "metadata": {
    "collapsed": false
   },
   "outputs": [
    {
     "name": "stdout",
     "output_type": "stream",
     "text": [
      "Final Results\n"
     ]
    }
   ],
   "source": [
    "print('Final Results')"
   ]
  },
  {
   "cell_type": "code",
   "execution_count": 51,
   "metadata": {
    "collapsed": false
   },
   "outputs": [
    {
     "data": {
      "text/plain": [
       "{'bagging_fraction': 0.64683720311018356,\n",
       " 'bagging_freq': 1.3878801981741689,\n",
       " 'feature_fraction': 0.66532713078017636,\n",
       " 'learning_rate': 0.30612030323522765,\n",
       " 'min_data_in_leaf': 182.15158556178176,\n",
       " 'num_leaves': 138.76311302615065}"
      ]
     },
     "execution_count": 51,
     "metadata": {},
     "output_type": "execute_result"
    }
   ],
   "source": [
    "#Байессовские параметры\n",
    "GBM_reg_BO.res['max']['max_params']"
   ]
  },
  {
   "cell_type": "code",
   "execution_count": 52,
   "metadata": {
    "collapsed": false
   },
   "outputs": [
    {
     "name": "stdout",
     "output_type": "stream",
     "text": [
      "GBM_MAE_with_bayesian: -1.531665\n"
     ]
    }
   ],
   "source": [
    "print('GBM_MAE_with_bayesian: %f' % GBM_reg_BO.res['max']['max_val'])"
   ]
  },
  {
   "cell_type": "markdown",
   "metadata": {
    "collapsed": true
   },
   "source": [
    "### Обучим модель с параметрами, полученными в результате байессовской оптимизации:"
   ]
  },
  {
   "cell_type": "code",
   "execution_count": 53,
   "metadata": {
    "collapsed": false
   },
   "outputs": [
    {
     "name": "stdout",
     "output_type": "stream",
     "text": [
      "MAE: 1.45008404946\n",
      "MSE: 6.35239760465\n"
     ]
    }
   ],
   "source": [
    "GBMRegressor(\n",
    "    num_iterations = 500,\n",
    "    learning_rate=0.47506850012560686,\n",
    "    num_leaves=int(7.8505127010759317),\n",
    "    num_threads=2,\n",
    "    min_data_in_leaf=int(15.415882062245869),\n",
    "    metric='l2',\n",
    "    feature_fraction=0.62951457164881808,\n",
    "    feature_fraction_seed=241,\n",
    "    bagging_fraction=0.85753260727375658,\n",
    "    bagging_freq=int(26.103250555246248),\n",
    "    bagging_seed=123,\n",
    "    metric_freq=1,\n",
    "    early_stopping_round=50,\n",
    "    verbose = False\n",
    ").fit(X,y)\n",
    "\n",
    "print(\"MAE:\", mean_absolute_error(y_valid, GBM_reg.predict(X_valid)))\n",
    "print(\"MSE:\", mean_squared_error(y_valid, GBM_reg.predict(X_valid)))"
   ]
  },
  {
   "cell_type": "markdown",
   "metadata": {},
   "source": [
    "## Далее NaN в untouchable заменялся на 1 и 2, но это никак не повлияло на MAE для прогноза количества визитов, поэтому для определения кол-ва визитов этот признак особой роли не играет."
   ]
  },
  {
   "cell_type": "markdown",
   "metadata": {},
   "source": [
    "## XGBoost. "
   ]
  },
  {
   "cell_type": "code",
   "execution_count": 57,
   "metadata": {
    "collapsed": false
   },
   "outputs": [
    {
     "name": "stdout",
     "output_type": "stream",
     "text": [
      "On cross-validation:\n",
      "MAE: -1.50737112992\n",
      "MAE: -6.8777724627\n",
      "CPU times: user 3min 22s, sys: 1.02 s, total: 3min 23s\n",
      "Wall time: 1min 45s\n"
     ]
    }
   ],
   "source": [
    "%%time\n",
    "XGB =xgb.XGBRegressor(max_depth=3, \n",
    "                      learning_rate=0.2, \n",
    "                      n_estimators=50,\n",
    "                      silent=True,\n",
    "                      objective='reg:linear',\n",
    "                      nthread=2,\n",
    "                      gamma=0,\n",
    "                      min_child_weight=1,\n",
    "                     max_delta_step=0,\n",
    "                      subsample=1,\n",
    "                      colsample_bytree=1,\n",
    "                      colsample_bylevel=1,\n",
    "                      reg_alpha=0,\n",
    "                      reg_lambda=1,\n",
    "                      scale_pos_weight=1,\n",
    "                      base_score=0.5, \n",
    "                      seed=1,\n",
    "                      missing=None)\n",
    "\n",
    "print('On cross-validation:')\n",
    "print(\"MAE:\",cross_validation(XGB,mae,X,y))\n",
    "print(\"MAE:\",cross_validation(XGB,mse,X,y))"
   ]
  },
  {
   "cell_type": "markdown",
   "metadata": {},
   "source": [
    "# Stacking."
   ]
  },
  {
   "cell_type": "code",
   "execution_count": 58,
   "metadata": {
    "collapsed": false
   },
   "outputs": [],
   "source": [
    "from heamy.dataset import Dataset\n",
    "from heamy.estimator import Regressor, Classifier\n",
    "from heamy.pipeline import ModelsPipeline\n",
    "from sklearn.linear_model import LinearRegression"
   ]
  },
  {
   "cell_type": "code",
   "execution_count": 59,
   "metadata": {
    "collapsed": true
   },
   "outputs": [],
   "source": [
    "# create dataset\n",
    "dataset = Dataset(X_train,y_train,X_valid)\n",
    "\n",
    "# initialize GBM & XGB\n",
    "model_GBM = Regressor(dataset=dataset, estimator=GBMRegressor,parameters={\n",
    "    'num_iterations': 500,\n",
    "    'learning_rate':0.47506850012560686,\n",
    "    'num_leaves':int(7.8505127010759317),\n",
    "    'num_threads':2,\n",
    "    'min_data_in_leaf':int(15.415882062245869),\n",
    "    'metric':'l2',\n",
    "    'feature_fraction':0.62951457164881808,\n",
    "    'feature_fraction_seed':241,\n",
    "    'bagging_fraction':0.85753260727375658,\n",
    "    'bagging_freq':int(26.103250555246248),\n",
    "    'bagging_seed':123,\n",
    "    'metric_freq':1,\n",
    "    'early_stopping_round':50,\n",
    "    'verbose': False},\n",
    "    name =\"GBM\")\n",
    "\n",
    "model_XGB = Regressor(dataset=dataset, estimator=xgb.XGBRegressor,\n",
    "        parameters={\n",
    "        'max_depth':3, \n",
    "        'learning_rate':0.2, \n",
    "        'n_estimators':50,\n",
    "        'silent':True,\n",
    "        'objective':'reg:linear',\n",
    "        'nthread':2,\n",
    "        'gamma':0,\n",
    "        'min_child_weight':1,\n",
    "        'max_delta_step':0,\n",
    "        'subsample':1,\n",
    "        'colsample_bytree':1,\n",
    "        'colsample_bylevel':1,\n",
    "        'reg_alpha':0,\n",
    "        'reg_lambda':1,\n",
    "        'scale_pos_weight':1,\n",
    "        'base_score':0.5, \n",
    "        'seed':1,\n",
    "        'missing':None},\n",
    "        name='XGB')\n",
    "\n",
    "# Stack two models\n",
    "# Returns new dataset with out-of-fold predictions\n",
    "pipeline = ModelsPipeline(model_GBM,model_XGB)\n",
    "stack_ds = pipeline.stack(k=3,seed=111)"
   ]
  },
  {
   "cell_type": "code",
   "execution_count": 60,
   "metadata": {
    "collapsed": true
   },
   "outputs": [],
   "source": [
    "# Train GBM on stacked data (second stage)\n",
    "stacker = Regressor(dataset=stack_ds, estimator=GBMRegressor,parameters={\n",
    "    'num_iterations': 500,\n",
    "    'learning_rate':0.47506850012560686,\n",
    "    'num_leaves':int(7.8505127010759317),\n",
    "    'num_threads':2,\n",
    "    'min_data_in_leaf':int(15.415882062245869),\n",
    "    'metric':'l2',\n",
    "    'feature_fraction':0.62951457164881808,\n",
    "    'feature_fraction_seed':241,\n",
    "    'bagging_fraction':0.85753260727375658,\n",
    "    'bagging_freq':int(26.103250555246248),\n",
    "    'bagging_seed':123,\n",
    "    'metric_freq':1,\n",
    "    'early_stopping_round':50,\n",
    "    'verbose': False})\n",
    "results = stacker.predict()"
   ]
  },
  {
   "cell_type": "code",
   "execution_count": 61,
   "metadata": {
    "collapsed": false
   },
   "outputs": [
    {
     "data": {
      "text/plain": [
       "1.4445184061358958"
      ]
     },
     "execution_count": 61,
     "metadata": {},
     "output_type": "execute_result"
    }
   ],
   "source": [
    "#MAE между X_valid и stacker.predict()\n",
    "mae(results, y_valid)"
   ]
  },
  {
   "cell_type": "code",
   "execution_count": 62,
   "metadata": {
    "collapsed": false
   },
   "outputs": [
    {
     "name": "stdout",
     "output_type": "stream",
     "text": [
      "Metric: mae\n",
      "Folds accuracy: [1.4527801586470392, 1.4588245799134225, 1.4579178368062558]\n",
      "Mean accuracy: 1.45650752512\n",
      "Standard Deviation: 0.00266151478121\n",
      "Variance: 7.08366093062e-06\n"
     ]
    }
   ],
   "source": [
    "# Validate results using 3 fold cross-validation\n",
    "results_on_cv = stacker.validate(k=3,scorer=mae)"
   ]
  },
  {
   "cell_type": "code",
   "execution_count": 63,
   "metadata": {
    "collapsed": false
   },
   "outputs": [],
   "source": [
    "def stacker_eval_for_BO(learning_rate,num_leaves, feature_fraction, bagging_fraction):\n",
    "    \n",
    "    stacker = Regressor(dataset=stack_ds, estimator=GBMRegressor,parameters={\n",
    "    'num_iterations': 500,\n",
    "    'learning_rate':learning_rate,\n",
    "    'num_leaves':int(num_leaves),\n",
    "    'num_threads':2,\n",
    "    'min_data_in_leaf':int(15.415882062245869),\n",
    "    'metric':'l2',\n",
    "    'feature_fraction':feature_fraction,\n",
    "    'feature_fraction_seed':241,\n",
    "    'bagging_fraction':bagging_fraction,\n",
    "    'bagging_freq':int(26.103250555246248),\n",
    "    'bagging_seed':123,\n",
    "    'metric_freq':1,\n",
    "    'early_stopping_round':50,\n",
    "    'verbose': False})\n",
    "    results = stacker.predict()\n",
    "    return mae(results, y_valid)"
   ]
  },
  {
   "cell_type": "code",
   "execution_count": 64,
   "metadata": {
    "collapsed": false
   },
   "outputs": [
    {
     "name": "stdout",
     "output_type": "stream",
     "text": [
      "\u001b[31mInitialization\u001b[0m\n",
      "\u001b[94m--------------------------------------------------------------------------------------------------------\u001b[0m\n",
      " Step |   Time |      Value |   bagging_fraction |   feature_fraction |   learning_rate |   num_leaves | \n",
      "    1 | 00m31s | \u001b[35m   1.44649\u001b[0m | \u001b[32m            0.7678\u001b[0m | \u001b[32m            0.7115\u001b[0m | \u001b[32m         0.1041\u001b[0m | \u001b[32m     47.2651\u001b[0m | \n",
      "\u001b[31mBayesian Optimization\u001b[0m\n",
      "\u001b[94m--------------------------------------------------------------------------------------------------------\u001b[0m\n",
      " Step |   Time |      Value |   bagging_fraction |   feature_fraction |   learning_rate |   num_leaves | \n",
      "    2 | 00m39s |    1.44480 |             0.6978 |             0.7173 |          0.4801 |      48.1764 | \n",
      "CPU times: user 30.9 s, sys: 368 ms, total: 31.3 s\n",
      "Wall time: 1min 10s\n"
     ]
    }
   ],
   "source": [
    "%%time\n",
    "num_iter = 1\n",
    "init_points = 1\n",
    "\n",
    "#Параметры, взятые в кавычки оптимизируются\n",
    "stacker_BO = BayesianOptimization(stacker_eval_for_BO, \n",
    "                              {\n",
    "                                'learning_rate':(0.1,1),\n",
    "                                'num_leaves': (3, 50),\n",
    "                                'feature_fraction': (0.6,1),\n",
    "                                'bagging_fraction': (0.6,1),\n",
    "                              }\n",
    "                             )\n",
    "\n",
    "stacker_BO.maximize(init_points=init_points, n_iter=num_iter)"
   ]
  },
  {
   "cell_type": "code",
   "execution_count": 65,
   "metadata": {
    "collapsed": false
   },
   "outputs": [
    {
     "data": {
      "text/plain": [
       "{'bagging_fraction': 0.76777032269985912,\n",
       " 'feature_fraction': 0.71149836303941871,\n",
       " 'learning_rate': 0.10414791739742632,\n",
       " 'num_leaves': 47.265135299346881}"
      ]
     },
     "execution_count": 65,
     "metadata": {},
     "output_type": "execute_result"
    }
   ],
   "source": [
    "#Байессовские параметры\n",
    "stacker_BO.res['max']['max_params']"
   ]
  },
  {
   "cell_type": "code",
   "execution_count": 66,
   "metadata": {
    "collapsed": false
   },
   "outputs": [
    {
     "name": "stdout",
     "output_type": "stream",
     "text": [
      "Stacker_MAE_with_bayesian: 1.446492\n"
     ]
    }
   ],
   "source": [
    "print('Stacker_MAE_with_bayesian: %f' % stacker_BO.res['max']['max_val'])"
   ]
  },
  {
   "cell_type": "markdown",
   "metadata": {},
   "source": [
    "### Качество стэкера значительно не улучшилось, даже, когда брались num_iter = 40, init_points. \n"
   ]
  },
  {
   "cell_type": "markdown",
   "metadata": {},
   "source": [
    "\n",
    "\n",
    "\n",
    "\n",
    "# Возникает вопрос:\n",
    "# Балансировка участков = задача кластеризации ???"
   ]
  },
  {
   "cell_type": "markdown",
   "metadata": {},
   "source": [
    "# Балансировка участков на скоринговой модели на 3 поликлиниках c LPU_ID равными 13, 17 или 19."
   ]
  },
  {
   "cell_type": "markdown",
   "metadata": {},
   "source": [
    "## Расммотрим LPU_ID = 13."
   ]
  },
  {
   "cell_type": "code",
   "execution_count": 67,
   "metadata": {
    "collapsed": false
   },
   "outputs": [
    {
     "name": "stdout",
     "output_type": "stream",
     "text": [
      "(78572, 27)\n",
      "(966767, 27)\n",
      "(78572,)\n",
      "(966767,)\n",
      "(78572, 26)\n",
      "(966767, 26)\n"
     ]
    }
   ],
   "source": [
    "#Сформируем и очистим данные для LPU_ID = 13\n",
    "X_lpu_13 = sc_data.drop_duplicates()\n",
    "\n",
    "X_lpu_13 = X_lpu_13[X_lpu_13['age_calculate_y']<150]\n",
    "\n",
    "X_lpu_13 = X_lpu_13.drop(ufo_indexes.index, axis=0)\n",
    "\n",
    "\n",
    "#Операция присваивания не копирует объект, она лишь создаёт ссылку на объект. А она нам нужна именно копия!\n",
    "X_train_13 = deepcopy(X_lpu_13)\n",
    "X_lpu_13 = X_lpu_13[X_lpu_13['lpu_id']==13]\n",
    "print(X_lpu_13.shape)\n",
    "print(X_train_13.shape)\n",
    "\n",
    "y_lpu_13 = X_lpu_13['target']\n",
    "y_train_13 = X_train_13['target'] \n",
    "print(y_lpu_13.shape)\n",
    "print(y_train_13.shape)\n",
    "\n",
    "X_lpu_13 = X_lpu_13.drop(['target'], axis=1)\n",
    "X_train_13 = X_train_13.drop(['target'], axis=1)\n",
    "print(X_lpu_13.shape)\n",
    "print(X_train_13.shape)\n",
    "\n",
    "\n",
    "X_train_13['untouchable'].fillna(0, inplace=True) #допущение-эвристика\n",
    "X_lpu_13['untouchable'].fillna(0, inplace=True) #допущение-эвристика"
   ]
  },
  {
   "cell_type": "markdown",
   "metadata": {},
   "source": [
    "### Будем пользоваться только GBM'омом для прогноза target, поскольку разница м/у ним и результатом stacking'а не велика "
   ]
  },
  {
   "cell_type": "code",
   "execution_count": 68,
   "metadata": {
    "collapsed": false
   },
   "outputs": [],
   "source": [
    "GBM_reg=GBMRegressor(\n",
    "    num_iterations=500,\n",
    "    learning_rate=0.1,\n",
    "    num_leaves=10,\n",
    "    num_threads=-1,\n",
    "    min_data_in_leaf=8,\n",
    "    metric='l2',\n",
    "    feature_fraction=0.8,\n",
    "    feature_fraction_seed=241,\n",
    "    bagging_fraction=0.8,\n",
    "    bagging_freq=100,\n",
    "    bagging_seed=123,\n",
    "    metric_freq=1,\n",
    "    early_stopping_round=50,\n",
    "    verbose = False)\n",
    "\n",
    "GBM_reg.fit(X_train_13.drop(['pat_id'],axis=1), y_train_13)\n",
    "\n",
    "#Сделаем прогноз для target и округлим его до целых чисел\n",
    "HAT_y_lpu_13 = np.round(GBM_reg.predict(X_lpu_13.drop(['pat_id'],axis=1))) "
   ]
  },
  {
   "cell_type": "code",
   "execution_count": 69,
   "metadata": {
    "collapsed": false
   },
   "outputs": [],
   "source": [
    "MAE = mae(y_lpu_13,HAT_y_lpu_13) #погрешность для одного target'а - eps"
   ]
  },
  {
   "cell_type": "code",
   "execution_count": 70,
   "metadata": {
    "collapsed": false
   },
   "outputs": [
    {
     "data": {
      "text/plain": [
       "1.1387008094486586"
      ]
     },
     "execution_count": 70,
     "metadata": {},
     "output_type": "execute_result"
    }
   ],
   "source": [
    "MAE"
   ]
  },
  {
   "cell_type": "markdown",
   "metadata": {},
   "source": [
    "### Не забудь учесть в балансировке \"неприкасаемых\" !!!"
   ]
  },
  {
   "cell_type": "code",
   "execution_count": 71,
   "metadata": {
    "collapsed": false
   },
   "outputs": [
    {
     "data": {
      "text/plain": [
       "(78572, 27)"
      ]
     },
     "execution_count": 71,
     "metadata": {},
     "output_type": "execute_result"
    }
   ],
   "source": [
    "X_lpu_13['target'] = HAT_y_lpu_13\n",
    "X_lpu_13.shape"
   ]
  },
  {
   "cell_type": "code",
   "execution_count": 72,
   "metadata": {
    "collapsed": false
   },
   "outputs": [
    {
     "data": {
      "text/plain": [
       "Index(['untouchable', 'pat_id', 'lpu_district', 'pers_district',\n",
       "       'MOSCOW_REGISTRATION', 'invalid', 'nadomnik', 'age_calculate_y',\n",
       "       'sovmest_deti', 'sovmest_lgotnik', 'sovmest_pens', 'sphere_new_School',\n",
       "       'sphere_new_hospital', 'sphere_new_sotszaschita', 'sphere_ZHKH',\n",
       "       'bezrab_now', 'bezrab_2015', 'bezrab_may_be', 'COMMON_GENDER', 'lux1',\n",
       "       'lux2', 'FLAG_BESSR', 'HAD_APPOINTMENTS', 'from_region', 'lpu_id',\n",
       "       'district_id', 'target'],\n",
       "      dtype='object')"
      ]
     },
     "execution_count": 72,
     "metadata": {},
     "output_type": "execute_result"
    }
   ],
   "source": [
    "X_lpu_13.columns"
   ]
  },
  {
   "cell_type": "code",
   "execution_count": 73,
   "metadata": {
    "collapsed": false
   },
   "outputs": [],
   "source": [
    "lpu_13 = deepcopy(X_lpu_13)\n",
    "#Уберём из lpu_13 все столбцы, кроме pat_id, district_id,target, untouchable\n",
    "for col in X_lpu_13.columns:\n",
    "    if(col != 'pat_id' and col != 'district_id' and col != 'target' and col != 'untouchable'):\n",
    "        lpu_13 = lpu_13.drop([col], axis=1)"
   ]
  },
  {
   "cell_type": "code",
   "execution_count": 74,
   "metadata": {
    "collapsed": false
   },
   "outputs": [
    {
     "data": {
      "text/html": [
       "<div>\n",
       "<table border=\"1\" class=\"dataframe\">\n",
       "  <thead>\n",
       "    <tr style=\"text-align: right;\">\n",
       "      <th></th>\n",
       "      <th>untouchable</th>\n",
       "      <th>pat_id</th>\n",
       "      <th>district_id</th>\n",
       "      <th>target</th>\n",
       "    </tr>\n",
       "  </thead>\n",
       "  <tbody>\n",
       "    <tr>\n",
       "      <th>10687</th>\n",
       "      <td>0.0</td>\n",
       "      <td>4122</td>\n",
       "      <td>129</td>\n",
       "      <td>12.0</td>\n",
       "    </tr>\n",
       "    <tr>\n",
       "      <th>10688</th>\n",
       "      <td>0.0</td>\n",
       "      <td>4434</td>\n",
       "      <td>280</td>\n",
       "      <td>12.0</td>\n",
       "    </tr>\n",
       "    <tr>\n",
       "      <th>10689</th>\n",
       "      <td>0.0</td>\n",
       "      <td>5952</td>\n",
       "      <td>84</td>\n",
       "      <td>12.0</td>\n",
       "    </tr>\n",
       "    <tr>\n",
       "      <th>10690</th>\n",
       "      <td>0.0</td>\n",
       "      <td>6292</td>\n",
       "      <td>129</td>\n",
       "      <td>12.0</td>\n",
       "    </tr>\n",
       "    <tr>\n",
       "      <th>10691</th>\n",
       "      <td>0.0</td>\n",
       "      <td>6405</td>\n",
       "      <td>247</td>\n",
       "      <td>12.0</td>\n",
       "    </tr>\n",
       "  </tbody>\n",
       "</table>\n",
       "</div>"
      ],
      "text/plain": [
       "       untouchable  pat_id  district_id  target\n",
       "10687          0.0    4122          129    12.0\n",
       "10688          0.0    4434          280    12.0\n",
       "10689          0.0    5952           84    12.0\n",
       "10690          0.0    6292          129    12.0\n",
       "10691          0.0    6405          247    12.0"
      ]
     },
     "execution_count": 74,
     "metadata": {},
     "output_type": "execute_result"
    }
   ],
   "source": [
    "lpu_13.head()"
   ]
  },
  {
   "cell_type": "code",
   "execution_count": 75,
   "metadata": {
    "collapsed": false
   },
   "outputs": [
    {
     "data": {
      "text/plain": [
       "78572"
      ]
     },
     "execution_count": 75,
     "metadata": {},
     "output_type": "execute_result"
    }
   ],
   "source": [
    "len(lpu_13)"
   ]
  },
  {
   "cell_type": "markdown",
   "metadata": {},
   "source": [
    "## Число уникальных участков по рассматриваемой поликлиники"
   ]
  },
  {
   "cell_type": "code",
   "execution_count": 76,
   "metadata": {
    "collapsed": false
   },
   "outputs": [
    {
     "data": {
      "text/plain": [
       "35"
      ]
     },
     "execution_count": 76,
     "metadata": {},
     "output_type": "execute_result"
    }
   ],
   "source": [
    "lpu_13['district_id'].nunique()"
   ]
  },
  {
   "cell_type": "code",
   "execution_count": 77,
   "metadata": {
    "collapsed": false
   },
   "outputs": [
    {
     "data": {
      "text/plain": [
       "<seaborn.axisgrid.FacetGrid at 0x7f3ca5e21160>"
      ]
     },
     "execution_count": 77,
     "metadata": {},
     "output_type": "execute_result"
    },
    {
     "data": {
      "image/png": "[encoded data removed]",
      "text/plain": [
       "<matplotlib.figure.Figure at 0x7f3caca34be0>"
      ]
     },
     "metadata": {},
     "output_type": "display_data"
    }
   ],
   "source": [
    "sns.lmplot(x='district_id',y='target', hue='district_id', data=lpu_13, size=8,fit_reg=False)"
   ]
  },
  {
   "cell_type": "markdown",
   "metadata": {},
   "source": [
    "# Да уж, из такого графика не сбалансируешь :))"
   ]
  },
  {
   "cell_type": "code",
   "execution_count": 78,
   "metadata": {
    "collapsed": false
   },
   "outputs": [],
   "source": [
    "#Cписок под хранение уникального значения district_id\n",
    "district_id_lpu_13=[]\n",
    "#Cписок под хранение cуммарного target по данному district_id\n",
    "sum_target_lpu_13 = []\n",
    "sum_target_by_district_id_LPU_13 = pd.DataFrame()\n",
    "for district_id in lpu_13['district_id'].unique():\n",
    "    district_id_lpu_13+=[district_id]\n",
    "    sum_target_lpu_13+=[sum(lpu_13['target'][lpu_13['district_id']==district_id])]\n",
    "\n",
    "sum_target_by_district_id_LPU_13['district_id']=district_id_lpu_13\n",
    "sum_target_by_district_id_LPU_13['sum_target']=sum_target_lpu_13"
   ]
  },
  {
   "cell_type": "code",
   "execution_count": 79,
   "metadata": {
    "collapsed": false
   },
   "outputs": [
    {
     "data": {
      "text/plain": [
       "<seaborn.axisgrid.FacetGrid at 0x7f3ca5e72e80>"
      ]
     },
     "execution_count": 79,
     "metadata": {},
     "output_type": "execute_result"
    },
    {
     "data": {
      "image/png": "[encoded data removed]",
      "text/plain": [
       "<matplotlib.figure.Figure at 0x7f3cac554160>"
      ]
     },
     "metadata": {},
     "output_type": "display_data"
    }
   ],
   "source": [
    "sns.lmplot(x='district_id',y='sum_target', hue='district_id', data=sum_target_by_district_id_LPU_13, legend=False, fit_reg=False,scatter_kws={\"s\": 100})"
   ]
  },
  {
   "cell_type": "markdown",
   "metadata": {},
   "source": [
    "# Наш цель -- сделать одинаковой нагрузку на всех участках внутри поликлиники, поэтому точки на приведённом выше графики в идеале должны лежать на одной и той же горизонтальной прямой.\n",
    "\n",
    "# Целевое=балансное значение для каждого участка  поликлиники:\n",
    "# Cумма всех предсказанных визитов по данной поликлиники, поделённая на количество участков.\n"
   ]
  },
  {
   "cell_type": "code",
   "execution_count": 80,
   "metadata": {
    "collapsed": false
   },
   "outputs": [
    {
     "name": "stdout",
     "output_type": "stream",
     "text": [
      "29376.1428571\n"
     ]
    }
   ],
   "source": [
    "#целевое значение для lpu_id = 13\n",
    "goal_lpu_13 = sum(lpu_13['target'])/lpu_13['district_id'].nunique()\n",
    "print(goal_lpu_13)"
   ]
  },
  {
   "cell_type": "code",
   "execution_count": 81,
   "metadata": {
    "collapsed": false
   },
   "outputs": [
    {
     "name": "stdout",
     "output_type": "stream",
     "text": [
      "2556.28571429\n"
     ]
    }
   ],
   "source": [
    "#Погрешность целевого значения для lpu_id = 13\n",
    "precision_goal_lpu_13 = MAE*len(lpu_13)/lpu_13['district_id'].nunique()\n",
    "print(precision_goal_lpu_13)"
   ]
  },
  {
   "cell_type": "markdown",
   "metadata": {},
   "source": [
    "# Погрешность c учётом построеной модели предсказания target составляет 8.7%."
   ]
  },
  {
   "cell_type": "code",
   "execution_count": 82,
   "metadata": {
    "collapsed": true
   },
   "outputs": [],
   "source": [
    "#Данные для формирования полосы, в которой должны лежать все суммарные таргеты по каждому участку\n",
    "lower_bound = pd.DataFrame()\n",
    "lower_bound['district_id'] = lpu_13['district_id']\n",
    "lower_bound['goal_lpu_13'] = goal_lpu_13 - 1500#precision_goal_lpu_13\n",
    "\n",
    "upper_bound = pd.DataFrame()\n",
    "upper_bound['district_id'] = lpu_13['district_id']\n",
    "upper_bound['goal_lpu_13'] = goal_lpu_13 + 1500#precision_goal_lpu_13"
   ]
  },
  {
   "cell_type": "code",
   "execution_count": 83,
   "metadata": {
    "collapsed": false
   },
   "outputs": [
    {
     "data": {
      "text/plain": [
       "[<matplotlib.lines.Line2D at 0x7f3ca5e60e80>]"
      ]
     },
     "execution_count": 83,
     "metadata": {},
     "output_type": "execute_result"
    },
    {
     "data": {
      "image/png": "[encoded data removed]",
      "text/plain": [
       "<matplotlib.figure.Figure at 0x7f3ca5e60828>"
      ]
     },
     "metadata": {},
     "output_type": "display_data"
    }
   ],
   "source": [
    "sns.lmplot(x='district_id',y='sum_target', hue='district_id', data=sum_target_by_district_id_LPU_13, legend=False, fit_reg=False,scatter_kws={\"s\": 100})\n",
    "plt.plot(lower_bound['district_id'], lower_bound['goal_lpu_13'],color = 'black')\n",
    "plt.plot(upper_bound['district_id'], upper_bound['goal_lpu_13'],color = 'black')\n"
   ]
  },
  {
   "cell_type": "markdown",
   "metadata": {},
   "source": [
    "# Далее, к этому целевому значению будем подводить каждый участок. "
   ]
  },
  {
   "cell_type": "markdown",
   "metadata": {},
   "source": [
    "# Попробую кластеризацию."
   ]
  },
  {
   "cell_type": "markdown",
   "metadata": {},
   "source": [
    "# k-means"
   ]
  },
  {
   "cell_type": "code",
   "execution_count": 84,
   "metadata": {
    "collapsed": false
   },
   "outputs": [],
   "source": [
    "from sklearn.cluster import KMeans"
   ]
  },
  {
   "cell_type": "code",
   "execution_count": 85,
   "metadata": {
    "collapsed": false
   },
   "outputs": [
    {
     "data": {
      "text/plain": [
       "KMeans(algorithm='auto', copy_x=True, init='k-means++', max_iter=500,\n",
       "    n_clusters=35, n_init=100, n_jobs=-1, precompute_distances='auto',\n",
       "    random_state=245, tol=0.0001, verbose=0)"
      ]
     },
     "execution_count": 85,
     "metadata": {},
     "output_type": "execute_result"
    }
   ],
   "source": [
    "kmeans_13 = KMeans(n_clusters=35,max_iter=500,random_state=245, n_init=100,n_jobs=-1)\n",
    "kmeans_13.fit(lpu_13.drop(['pat_id','district_id'],1).values)"
   ]
  },
  {
   "cell_type": "code",
   "execution_count": 86,
   "metadata": {
    "collapsed": false
   },
   "outputs": [
    {
     "data": {
      "text/plain": [
       "array([0, 0, 0, ..., 6, 0, 0], dtype=int32)"
      ]
     },
     "execution_count": 86,
     "metadata": {},
     "output_type": "execute_result"
    }
   ],
   "source": [
    "kmeans_13.labels_"
   ]
  },
  {
   "cell_type": "code",
   "execution_count": 87,
   "metadata": {
    "collapsed": false
   },
   "outputs": [],
   "source": [
    "lpu_13['kmeans_label']=kmeans_13.labels_"
   ]
  },
  {
   "cell_type": "code",
   "execution_count": 88,
   "metadata": {
    "collapsed": false
   },
   "outputs": [],
   "source": [
    "#Cписок под хранение меток k-means\n",
    "kmeans_labels_lpu_13=[]\n",
    "#Cписок под хранение cуммарного target по данной метке\n",
    "kmeans_sum_target_lpu_13 = []\n",
    "\n",
    "kmeans_sum_target_by_klabel_LPU_13 = pd.DataFrame()\n",
    "\n",
    "for kmeans_label in lpu_13['kmeans_label'].unique():\n",
    "    kmeans_labels_lpu_13+=[kmeans_label]\n",
    "    kmeans_sum_target_lpu_13+=[sum(lpu_13['target'][lpu_13['kmeans_label']==kmeans_label])]\n",
    "\n",
    "kmeans_sum_target_by_klabel_LPU_13['kmeans_label']=kmeans_labels_lpu_13\n",
    "kmeans_sum_target_by_klabel_LPU_13['sum_target']=kmeans_sum_target_lpu_13"
   ]
  },
  {
   "cell_type": "code",
   "execution_count": 89,
   "metadata": {
    "collapsed": false
   },
   "outputs": [
    {
     "data": {
      "text/plain": [
       "<seaborn.axisgrid.FacetGrid at 0x7f3ca60841d0>"
      ]
     },
     "execution_count": 89,
     "metadata": {},
     "output_type": "execute_result"
    },
    {
     "data": {
      "image/png": "[encoded data removed]",
      "text/plain": [
       "<matplotlib.figure.Figure at 0x7f3ca6084128>"
      ]
     },
     "metadata": {},
     "output_type": "display_data"
    }
   ],
   "source": [
    "sns.lmplot(x='kmeans_label',y='sum_target', hue='kmeans_label', data=kmeans_sum_target_by_klabel_LPU_13, legend=False, fit_reg=False,scatter_kws={\"s\": 100})"
   ]
  },
  {
   "cell_type": "markdown",
   "metadata": {},
   "source": [
    "# Пробовал разные параметры в k-means  с надеждой на то, что он сможет так отобрать данные в кластеры, что на приведённом выше графики наблюдалось бы что-то похожее на равновесную горизнатальную прямую. "
   ]
  },
  {
   "cell_type": "code",
   "execution_count": 90,
   "metadata": {
    "collapsed": true
   },
   "outputs": [],
   "source": [
    "lpu_13 = lpu_13.drop(['kmeans_label'],1)"
   ]
  },
  {
   "cell_type": "markdown",
   "metadata": {},
   "source": [
    "# Буду делать всё вручную."
   ]
  },
  {
   "cell_type": "markdown",
   "metadata": {},
   "source": [
    "## Отсортируем LPU_ID=13 по target. (Сортировку не надо делать для самой балансировки)"
   ]
  },
  {
   "cell_type": "code",
   "execution_count": 91,
   "metadata": {
    "collapsed": false
   },
   "outputs": [
    {
     "data": {
      "text/html": [
       "<div>\n",
       "<table border=\"1\" class=\"dataframe\">\n",
       "  <thead>\n",
       "    <tr style=\"text-align: right;\">\n",
       "      <th></th>\n",
       "      <th>untouchable</th>\n",
       "      <th>pat_id</th>\n",
       "      <th>district_id</th>\n",
       "      <th>target</th>\n",
       "    </tr>\n",
       "  </thead>\n",
       "  <tbody>\n",
       "    <tr>\n",
       "      <th>10687</th>\n",
       "      <td>0.0</td>\n",
       "      <td>4122</td>\n",
       "      <td>129</td>\n",
       "      <td>12.0</td>\n",
       "    </tr>\n",
       "    <tr>\n",
       "      <th>10688</th>\n",
       "      <td>0.0</td>\n",
       "      <td>4434</td>\n",
       "      <td>280</td>\n",
       "      <td>12.0</td>\n",
       "    </tr>\n",
       "    <tr>\n",
       "      <th>10689</th>\n",
       "      <td>0.0</td>\n",
       "      <td>5952</td>\n",
       "      <td>84</td>\n",
       "      <td>12.0</td>\n",
       "    </tr>\n",
       "    <tr>\n",
       "      <th>10690</th>\n",
       "      <td>0.0</td>\n",
       "      <td>6292</td>\n",
       "      <td>129</td>\n",
       "      <td>12.0</td>\n",
       "    </tr>\n",
       "    <tr>\n",
       "      <th>10691</th>\n",
       "      <td>0.0</td>\n",
       "      <td>6405</td>\n",
       "      <td>247</td>\n",
       "      <td>12.0</td>\n",
       "    </tr>\n",
       "  </tbody>\n",
       "</table>\n",
       "</div>"
      ],
      "text/plain": [
       "       untouchable  pat_id  district_id  target\n",
       "10687          0.0    4122          129    12.0\n",
       "10688          0.0    4434          280    12.0\n",
       "10689          0.0    5952           84    12.0\n",
       "10690          0.0    6292          129    12.0\n",
       "10691          0.0    6405          247    12.0"
      ]
     },
     "execution_count": 91,
     "metadata": {},
     "output_type": "execute_result"
    }
   ],
   "source": [
    "#было\n",
    "lpu_13.head(5)"
   ]
  },
  {
   "cell_type": "code",
   "execution_count": 92,
   "metadata": {
    "collapsed": false
   },
   "outputs": [],
   "source": [
    "lpu_13.sort(columns='target',axis=0, ascending=False,inplace=True) #cортируем на месте"
   ]
  },
  {
   "cell_type": "code",
   "execution_count": 93,
   "metadata": {
    "collapsed": false
   },
   "outputs": [
    {
     "data": {
      "text/html": [
       "<div>\n",
       "<table border=\"1\" class=\"dataframe\">\n",
       "  <thead>\n",
       "    <tr style=\"text-align: right;\">\n",
       "      <th></th>\n",
       "      <th>untouchable</th>\n",
       "      <th>pat_id</th>\n",
       "      <th>district_id</th>\n",
       "      <th>target</th>\n",
       "    </tr>\n",
       "  </thead>\n",
       "  <tbody>\n",
       "    <tr>\n",
       "      <th>496523</th>\n",
       "      <td>1.0</td>\n",
       "      <td>397443</td>\n",
       "      <td>116</td>\n",
       "      <td>27.0</td>\n",
       "    </tr>\n",
       "    <tr>\n",
       "      <th>689111</th>\n",
       "      <td>1.0</td>\n",
       "      <td>346430</td>\n",
       "      <td>248</td>\n",
       "      <td>27.0</td>\n",
       "    </tr>\n",
       "    <tr>\n",
       "      <th>658973</th>\n",
       "      <td>1.0</td>\n",
       "      <td>427787</td>\n",
       "      <td>3</td>\n",
       "      <td>27.0</td>\n",
       "    </tr>\n",
       "    <tr>\n",
       "      <th>480242</th>\n",
       "      <td>1.0</td>\n",
       "      <td>171753</td>\n",
       "      <td>204</td>\n",
       "      <td>26.0</td>\n",
       "    </tr>\n",
       "    <tr>\n",
       "      <th>687751</th>\n",
       "      <td>1.0</td>\n",
       "      <td>97934</td>\n",
       "      <td>163</td>\n",
       "      <td>26.0</td>\n",
       "    </tr>\n",
       "  </tbody>\n",
       "</table>\n",
       "</div>"
      ],
      "text/plain": [
       "        untouchable  pat_id  district_id  target\n",
       "496523          1.0  397443          116    27.0\n",
       "689111          1.0  346430          248    27.0\n",
       "658973          1.0  427787            3    27.0\n",
       "480242          1.0  171753          204    26.0\n",
       "687751          1.0   97934          163    26.0"
      ]
     },
     "execution_count": 93,
     "metadata": {},
     "output_type": "execute_result"
    }
   ],
   "source": [
    "#стало\n",
    "lpu_13.head(5)"
   ]
  },
  {
   "cell_type": "code",
   "execution_count": 94,
   "metadata": {
    "collapsed": true
   },
   "outputs": [],
   "source": [
    "# Словарь, содержащий суммарные нагрузки по участкам \n",
    "loading = dict()\n",
    "for district_id in lpu_13['district_id'].unique():\n",
    "    loading[district_id]=sum(lpu_13['target'][lpu_13['district_id']==district_id])"
   ]
  },
  {
   "cell_type": "code",
   "execution_count": 95,
   "metadata": {
    "collapsed": false
   },
   "outputs": [
    {
     "data": {
      "text/plain": [
       "{1: 41354.0,\n",
       " 3: 29831.0,\n",
       " 35: 29382.0,\n",
       " 42: 28231.0,\n",
       " 49: 31234.0,\n",
       " 57: 30513.0,\n",
       " 84: 27423.0,\n",
       " 86: 31347.0,\n",
       " 100: 29205.0,\n",
       " 101: 32284.0,\n",
       " 115: 28764.0,\n",
       " 116: 27583.0,\n",
       " 125: 28116.0,\n",
       " 129: 28208.0,\n",
       " 149: 27585.0,\n",
       " 158: 27243.0,\n",
       " 163: 29801.0,\n",
       " 172: 27552.0,\n",
       " 201: 29181.0,\n",
       " 204: 32353.0,\n",
       " 231: 29722.0,\n",
       " 233: 29122.0,\n",
       " 234: 28654.0,\n",
       " 237: 30073.0,\n",
       " 247: 28718.0,\n",
       " 248: 28265.0,\n",
       " 249: 29526.0,\n",
       " 251: 27599.0,\n",
       " 252: 27031.0,\n",
       " 263: 27526.0,\n",
       " 270: 30040.0,\n",
       " 277: 29611.0,\n",
       " 280: 28598.0,\n",
       " 285: 27440.0,\n",
       " 286: 29050.0}"
      ]
     },
     "execution_count": 95,
     "metadata": {},
     "output_type": "execute_result"
    }
   ],
   "source": [
    "loading"
   ]
  },
  {
   "cell_type": "code",
   "execution_count": 96,
   "metadata": {
    "collapsed": false
   },
   "outputs": [
    {
     "name": "stdout",
     "output_type": "stream",
     "text": [
      "Участок с минимальной загрузкой:\n",
      "district_id = 252 нагрузка: 27031.0\n"
     ]
    }
   ],
   "source": [
    "print('Участок с минимальной загрузкой:')\n",
    "print('district_id =',min(loading, key=loading.get),'нагрузка:',loading[min(loading, key=loading.get)])"
   ]
  },
  {
   "cell_type": "code",
   "execution_count": 97,
   "metadata": {
    "collapsed": false
   },
   "outputs": [
    {
     "name": "stdout",
     "output_type": "stream",
     "text": [
      "Участок с максимальной загрузкой:\n",
      "district_id = 1 нагрузка: 41354.0\n"
     ]
    }
   ],
   "source": [
    "print('Участок с максимальной загрузкой:')\n",
    "print('district_id =',max(loading, key=loading.get),'нагрузка:',loading[max(loading, key=loading.get)])"
   ]
  },
  {
   "cell_type": "code",
   "execution_count": 98,
   "metadata": {
    "collapsed": false
   },
   "outputs": [
    {
     "data": {
      "text/plain": [
       "2951"
      ]
     },
     "execution_count": 98,
     "metadata": {},
     "output_type": "execute_result"
    }
   ],
   "source": [
    "len(lpu_13[lpu_13['district_id']==1])"
   ]
  },
  {
   "cell_type": "code",
   "execution_count": 99,
   "metadata": {
    "collapsed": false
   },
   "outputs": [
    {
     "data": {
      "text/plain": [
       "2226"
      ]
     },
     "execution_count": 99,
     "metadata": {},
     "output_type": "execute_result"
    }
   ],
   "source": [
    "len(lpu_13[lpu_13['district_id']==101])"
   ]
  },
  {
   "cell_type": "markdown",
   "metadata": {},
   "source": [
    "# В цикле будем проводить последовательно балансировку м/у макс и мин по нагруженности участкам"
   ]
  },
  {
   "cell_type": "code",
   "execution_count": 100,
   "metadata": {
    "collapsed": false
   },
   "outputs": [
    {
     "name": "stdout",
     "output_type": "stream",
     "text": [
      "CPU times: user 2min 4s, sys: 60 ms, total: 2min 4s\n",
      "Wall time: 2min 4s\n"
     ]
    }
   ],
   "source": [
    "%%time\n",
    "\n",
    "#счётчик подсчёта перемещённых людей\n",
    "counter_of_moving_people=0\n",
    "\n",
    "#использую флаги состояний, говорящие о достижении равновесия\n",
    "flags = pd.DataFrame({'district_id':lpu_13['district_id'].unique(),'balance?':np.zeros(lpu_13['district_id'].nunique())})\n",
    "\n",
    "for mm in range(10000):                   #до этого было -- while True:, но так мы застраховываемся от зацикливания \n",
    "    #Участок с минимальной загрузкой\n",
    "    key_min = min(loading, key=loading.get)\n",
    "    MIN = loading[key_min]\n",
    "    \n",
    "    #Участок с максимальной загрузкой\n",
    "    key_max = max(loading, key=loading.get)\n",
    "    MAX = loading[key_max]\n",
    "    \n",
    "    #балансировка: переносим пациента с наибольшим target с участка максимальной загруженности\n",
    "    #на участок c минимальной загруженностью \n",
    "    #на другой, пока не достигнем равновесия. Не прикасаемых не трогаем\n",
    "    targets_with_key_max = lpu_13['target'][lpu_13['district_id'] == key_max]\n",
    "    index_max_target = targets_with_key_max.idxmax()\n",
    "    \n",
    "    lpu_13.loc[index_max_target,'district_id'] = key_min\n",
    "    counter_of_moving_people +=1\n",
    "   \n",
    "    #условие выхода из цикла: порог на количество перемещённых людей\n",
    "    if counter_of_moving_people > 0.25*len(lpu_13):\n",
    "        break\n",
    "    \n",
    "    #использую флаги состояний, говорящие о достижении равновесия\n",
    "    for district_id in lpu_13['district_id'].unique():   \n",
    "        #если суммарный target по данному участку находится в пределах погрешности балансного, целевого значения,то\n",
    "        #флаг баланса по данному участку выставляем равным 1\n",
    "        if abs(sum(lpu_13['target'][lpu_13['district_id'] == district_id]) - goal_lpu_13) < 1500:\n",
    "            flags['balance?'][flags['district_id'] == district_id] = 1\n",
    "    \n",
    "    #условие выхода из цикла: все флаги равны 1, то есть все участки сбалансированы с заданной точностью\n",
    "    if flags['balance?'].all():\n",
    "        break\n",
    "    \n",
    "    flags['balance?'] = 0\n",
    "    \n",
    "    #Обновить словарь\n",
    "    loading = dict()\n",
    "    for district_id in lpu_13['district_id'].unique():\n",
    "        loading[district_id]=sum(lpu_13['target'][lpu_13['district_id']==district_id])"
   ]
  },
  {
   "cell_type": "code",
   "execution_count": 101,
   "metadata": {
    "collapsed": false
   },
   "outputs": [
    {
     "data": {
      "text/plain": [
       "721"
      ]
     },
     "execution_count": 101,
     "metadata": {},
     "output_type": "execute_result"
    }
   ],
   "source": [
    "# Число перемещённых людей\n",
    "counter_of_moving_people"
   ]
  },
  {
   "cell_type": "markdown",
   "metadata": {},
   "source": [
    "# Визуализация результатов балансировки по LPU_ID=13"
   ]
  },
  {
   "cell_type": "code",
   "execution_count": 102,
   "metadata": {
    "collapsed": false
   },
   "outputs": [],
   "source": [
    "#Cписок под хранение уникального значения district_id\n",
    "district_id_lpu_13=[]\n",
    "#Cписок под хранение cуммарного target по данному district_id после балансировки\n",
    "sum_target_lpu_13 = []\n",
    "sum_target_by_district_id_LPU_13 = pd.DataFrame()\n",
    "for district_id in lpu_13['district_id'].unique():\n",
    "    district_id_lpu_13+=[district_id]\n",
    "    sum_target_lpu_13+=[sum(lpu_13['target'][lpu_13['district_id']==district_id])]\n",
    "\n",
    "sum_target_by_district_id_LPU_13['district_id']=district_id_lpu_13\n",
    "sum_target_by_district_id_LPU_13['sum_target']=sum_target_lpu_13"
   ]
  },
  {
   "cell_type": "code",
   "execution_count": 103,
   "metadata": {
    "collapsed": true
   },
   "outputs": [],
   "source": [
    "#Данные для формирования полосы, в которой должны лежать все суммарные таргеты по каждому участку\n",
    "lower_bound = pd.DataFrame()\n",
    "lower_bound['district_id'] = lpu_13['district_id']\n",
    "lower_bound['goal_lpu_13'] = goal_lpu_13 - 1500\n",
    "\n",
    "upper_bound = pd.DataFrame()\n",
    "upper_bound['district_id'] = lpu_13['district_id']\n",
    "upper_bound['goal_lpu_13'] = goal_lpu_13 + 1500"
   ]
  },
  {
   "cell_type": "code",
   "execution_count": 104,
   "metadata": {
    "collapsed": false
   },
   "outputs": [
    {
     "data": {
      "text/plain": [
       "[<matplotlib.lines.Line2D at 0x7f3c6f71eba8>]"
      ]
     },
     "execution_count": 104,
     "metadata": {},
     "output_type": "execute_result"
    },
    {
     "data": {
      "image/png": "[encoded data removed]",
      "text/plain": [
       "<matplotlib.figure.Figure at 0x7f3ca5f52c88>"
      ]
     },
     "metadata": {},
     "output_type": "display_data"
    }
   ],
   "source": [
    "lm=sns.lmplot(x='district_id',y='sum_target', hue='district_id',scatter_kws={\"s\": 100}, data=sum_target_by_district_id_LPU_13, legend=False, fit_reg=False)\n",
    "lm.axes[0,0].set_ylim(26000,44000)\n",
    "plt.plot(lower_bound['district_id'], lower_bound['goal_lpu_13'],color = 'black')\n",
    "plt.plot(upper_bound['district_id'], upper_bound['goal_lpu_13'],color = 'black')"
   ]
  },
  {
   "cell_type": "markdown",
   "metadata": {},
   "source": [
    "# Чёрные линии -- это границы погрешности."
   ]
  },
  {
   "cell_type": "markdown",
   "metadata": {},
   "source": [
    "# Для всех остальных поликлиник процесс балансировки проводится ПОЛНОСТЬЮ аналогично.\n"
   ]
  },
  {
   "cell_type": "markdown",
   "metadata": {},
   "source": [
    "## Расммотрим LPU_ID = 17."
   ]
  },
  {
   "cell_type": "code",
   "execution_count": 105,
   "metadata": {
    "collapsed": false
   },
   "outputs": [
    {
     "name": "stdout",
     "output_type": "stream",
     "text": [
      "(58999, 27)\n",
      "(966767, 27)\n",
      "(58999,)\n",
      "(966767,)\n",
      "(58999, 26)\n",
      "(966767, 26)\n"
     ]
    }
   ],
   "source": [
    "#Сформируем и очистим данные для LPU_ID = 17\n",
    "X_lpu_17 = sc_data.drop_duplicates()\n",
    "\n",
    "X_lpu_17 = X_lpu_17[X_lpu_17['age_calculate_y']<150]\n",
    "\n",
    "X_lpu_17 = X_lpu_17.drop(ufo_indexes.index, axis=0)\n",
    "\n",
    "\n",
    "#Операция присваивания не копирует объект, она лишь создаёт ссылку на объект. А она нам нужна именно копия!\n",
    "X_train_17 = deepcopy(X_lpu_17)\n",
    "X_lpu_17 = X_lpu_17[X_lpu_17['lpu_id']==17]\n",
    "print(X_lpu_17.shape)\n",
    "print(X_train_17.shape)\n",
    "\n",
    "y_lpu_17 = X_lpu_17['target']\n",
    "y_train_17 = X_train_17['target'] \n",
    "print(y_lpu_17.shape)\n",
    "print(y_train_17.shape)\n",
    "\n",
    "X_lpu_17 = X_lpu_17.drop(['target'], axis=1)\n",
    "X_train_17 = X_train_17.drop(['target'], axis=1)\n",
    "print(X_lpu_17.shape)\n",
    "print(X_train_17.shape)\n",
    "\n",
    "\n",
    "X_train_17['untouchable'].fillna(0, inplace=True) #допущение-эвристика\n",
    "X_lpu_17['untouchable'].fillna(0, inplace=True) #допущение-эвристика"
   ]
  },
  {
   "cell_type": "code",
   "execution_count": 106,
   "metadata": {
    "collapsed": true
   },
   "outputs": [],
   "source": [
    "GBM_reg=GBMRegressor(\n",
    "    num_iterations=500,\n",
    "    learning_rate=0.1,\n",
    "    num_leaves=10,\n",
    "    num_threads=-1,\n",
    "    min_data_in_leaf=8,\n",
    "    metric='l2',\n",
    "    feature_fraction=0.8,\n",
    "    feature_fraction_seed=241,\n",
    "    bagging_fraction=0.8,\n",
    "    bagging_freq=100,\n",
    "    bagging_seed=123,\n",
    "    metric_freq=1,\n",
    "    early_stopping_round=50,\n",
    "    verbose = False)\n",
    "\n",
    "GBM_reg.fit(X_train_17.drop(['pat_id'],axis=1), y_train_17)\n",
    "\n",
    "#Сделаем прогноз для target и округлим его до целых чисел\n",
    "HAT_y_lpu_17 = np.round(GBM_reg.predict(X_lpu_17.drop(['pat_id'],axis=1))) "
   ]
  },
  {
   "cell_type": "code",
   "execution_count": 107,
   "metadata": {
    "collapsed": true
   },
   "outputs": [],
   "source": [
    "MAE = mae(y_lpu_17,HAT_y_lpu_17) #погрешность для одного target'а - eps"
   ]
  },
  {
   "cell_type": "code",
   "execution_count": 108,
   "metadata": {
    "collapsed": false
   },
   "outputs": [
    {
     "data": {
      "text/plain": [
       "1.688265902811912"
      ]
     },
     "execution_count": 108,
     "metadata": {},
     "output_type": "execute_result"
    }
   ],
   "source": [
    "MAE"
   ]
  },
  {
   "cell_type": "code",
   "execution_count": 109,
   "metadata": {
    "collapsed": false
   },
   "outputs": [
    {
     "data": {
      "text/plain": [
       "(58999, 27)"
      ]
     },
     "execution_count": 109,
     "metadata": {},
     "output_type": "execute_result"
    }
   ],
   "source": [
    "X_lpu_17['target'] = HAT_y_lpu_17\n",
    "X_lpu_17.shape"
   ]
  },
  {
   "cell_type": "code",
   "execution_count": 110,
   "metadata": {
    "collapsed": true
   },
   "outputs": [],
   "source": [
    "lpu_17 = deepcopy(X_lpu_17)\n",
    "#Уберём из lpu_17 все столбцы, кроме pat_id, district_id,target, untouchable\n",
    "for col in X_lpu_17.columns:\n",
    "    if(col != 'pat_id' and col != 'district_id' and col != 'target' and col != 'untouchable'):\n",
    "        lpu_17 = lpu_17.drop([col], axis=1)"
   ]
  },
  {
   "cell_type": "code",
   "execution_count": 111,
   "metadata": {
    "collapsed": true
   },
   "outputs": [],
   "source": [
    "#Cписок под хранение уникального значения district_id\n",
    "district_id_lpu_17=[]\n",
    "#Cписок под хранение cуммарного target по данному district_id\n",
    "sum_target_lpu_17 = []\n",
    "sum_target_by_district_id_LPU_17 = pd.DataFrame()\n",
    "for district_id in lpu_17['district_id'].unique():\n",
    "    district_id_lpu_17+=[district_id]\n",
    "    sum_target_lpu_17+=[sum(lpu_17['target'][lpu_17['district_id']==district_id])]\n",
    "\n",
    "sum_target_by_district_id_LPU_17['district_id']=district_id_lpu_17\n",
    "sum_target_by_district_id_LPU_17['sum_target']=sum_target_lpu_17"
   ]
  },
  {
   "cell_type": "code",
   "execution_count": 112,
   "metadata": {
    "collapsed": false
   },
   "outputs": [
    {
     "name": "stdout",
     "output_type": "stream",
     "text": [
      "31390.1153846\n"
     ]
    }
   ],
   "source": [
    "#целевое значение для lpu_id = 17\n",
    "goal_lpu_17 = sum(lpu_17['target'])/lpu_17['district_id'].nunique()\n",
    "print(goal_lpu_17)"
   ]
  },
  {
   "cell_type": "code",
   "execution_count": 113,
   "metadata": {
    "collapsed": false
   },
   "outputs": [
    {
     "name": "stdout",
     "output_type": "stream",
     "text": [
      "3831.0\n"
     ]
    }
   ],
   "source": [
    "#Погрешность целевого значения для lpu_id = 17\n",
    "precision_goal_lpu_17 = MAE*len(lpu_17)/lpu_17['district_id'].nunique()\n",
    "print(precision_goal_lpu_17)"
   ]
  },
  {
   "cell_type": "code",
   "execution_count": 114,
   "metadata": {
    "collapsed": true
   },
   "outputs": [],
   "source": [
    "#Данные для формирования полосы, в которой должны лежать все суммарные таргеты по каждому участку\n",
    "lower_bound = pd.DataFrame()\n",
    "lower_bound['district_id'] = lpu_17['district_id']\n",
    "lower_bound['goal_lpu_17'] = goal_lpu_17 - 1600#precision_goal_lpu_17\n",
    "\n",
    "upper_bound = pd.DataFrame()\n",
    "upper_bound['district_id'] = lpu_17['district_id']\n",
    "upper_bound['goal_lpu_17'] = goal_lpu_17 + 1600#precision_goal_lpu_17"
   ]
  },
  {
   "cell_type": "code",
   "execution_count": 115,
   "metadata": {
    "collapsed": false
   },
   "outputs": [
    {
     "data": {
      "text/plain": [
       "[<matplotlib.lines.Line2D at 0x7f3ca5679860>]"
      ]
     },
     "execution_count": 115,
     "metadata": {},
     "output_type": "execute_result"
    },
    {
     "data": {
      "image/png": "[encoded data removed]",
      "text/plain": [
       "<matplotlib.figure.Figure at 0x7f3ca601b5c0>"
      ]
     },
     "metadata": {},
     "output_type": "display_data"
    }
   ],
   "source": [
    "sns.lmplot(x='district_id',y='sum_target', hue='district_id', data=sum_target_by_district_id_LPU_17, legend=False, fit_reg=False,scatter_kws={\"s\": 100})\n",
    "plt.plot(lower_bound['district_id'], lower_bound['goal_lpu_17'],color = 'black')\n",
    "plt.plot(upper_bound['district_id'], upper_bound['goal_lpu_17'],color = 'black')"
   ]
  },
  {
   "cell_type": "code",
   "execution_count": 116,
   "metadata": {
    "collapsed": true
   },
   "outputs": [],
   "source": [
    "# Словарь, содержащий суммарные нагрузки по участкам \n",
    "loading = dict()\n",
    "for district_id in lpu_17['district_id'].unique():\n",
    "    loading[district_id]=sum(lpu_17['target'][lpu_17['district_id']==district_id])"
   ]
  },
  {
   "cell_type": "code",
   "execution_count": 117,
   "metadata": {
    "collapsed": false
   },
   "outputs": [
    {
     "name": "stdout",
     "output_type": "stream",
     "text": [
      "CPU times: user 1min 56s, sys: 84 ms, total: 1min 56s\n",
      "Wall time: 1min 56s\n"
     ]
    }
   ],
   "source": [
    "%%time\n",
    "\n",
    "#счётчик подсчёта перемещённых людей\n",
    "counter_of_moving_people=0\n",
    "\n",
    "#использую флаги состояний, говорящие о достижении равновесия\n",
    "flags = pd.DataFrame({'district_id':lpu_17['district_id'].unique(),'balance?':np.zeros(lpu_17['district_id'].nunique())})\n",
    "\n",
    "for mm in range(10000):                   #до этого было -- while True:, но так мы застраховываемся от зацикливания \n",
    "    #Участок с минимальной загрузкой\n",
    "    key_min = min(loading, key=loading.get)\n",
    "    MIN = loading[key_min]\n",
    "    \n",
    "    #Участок с максимальной загрузкой\n",
    "    key_max = max(loading, key=loading.get)\n",
    "    MAX = loading[key_max]\n",
    "    \n",
    "    #балансировка: переносим пациента с наибольшим target с участка максимальной загруженности\n",
    "    #на участок c минимальной загруженностью \n",
    "    #на другой, пока не достигнем равновесия. Не прикасаемых не трогаем\n",
    "    targets_with_key_max = lpu_17['target'][lpu_17['district_id'] == key_max]\n",
    "    index_max_target = targets_with_key_max.idxmax()\n",
    "    \n",
    "    lpu_17.loc[index_max_target,'district_id'] = key_min\n",
    "    counter_of_moving_people +=1\n",
    "   \n",
    "    #условие выхода из цикла: порог на количество перемещённых людей\n",
    "    if counter_of_moving_people > 0.25*len(lpu_17):\n",
    "        break\n",
    "    \n",
    "    #использую флаги состояний, говорящие о достижении равновесия\n",
    "    for district_id in lpu_17['district_id'].unique():   \n",
    "        #если суммарный target по данному участку находится в пределах погрешности балансного, целевого значения,то\n",
    "        #флаг баланса по данному участку выставляем равным 1\n",
    "        if abs(sum(lpu_17['target'][lpu_17['district_id'] == district_id]) - goal_lpu_17) < 1500:\n",
    "            flags['balance?'][flags['district_id'] == district_id] = 1\n",
    "    \n",
    "    #условие выхода из цикла: все флаги равны 1, то есть все участки сбалансированы с заданной точностью\n",
    "    if flags['balance?'].all():\n",
    "        break\n",
    "    \n",
    "    flags['balance?'] = 0\n",
    "    \n",
    "    #Обновить словарь\n",
    "    loading = dict()\n",
    "    for district_id in lpu_17['district_id'].unique():\n",
    "        loading[district_id]=sum(lpu_17['target'][lpu_17['district_id']==district_id])"
   ]
  },
  {
   "cell_type": "code",
   "execution_count": 118,
   "metadata": {
    "collapsed": false
   },
   "outputs": [
    {
     "data": {
      "text/plain": [
       "1318"
      ]
     },
     "execution_count": 118,
     "metadata": {},
     "output_type": "execute_result"
    }
   ],
   "source": [
    "counter_of_moving_people"
   ]
  },
  {
   "cell_type": "markdown",
   "metadata": {},
   "source": [
    "# Визуализация результатов балансировки по LPU_ID=17"
   ]
  },
  {
   "cell_type": "code",
   "execution_count": 119,
   "metadata": {
    "collapsed": true
   },
   "outputs": [],
   "source": [
    "#Cписок под хранение уникального значения district_id\n",
    "district_id_lpu_17=[]\n",
    "#Cписок под хранение cуммарного target по данному district_id\n",
    "sum_target_lpu_17 = []\n",
    "sum_target_by_district_id_LPU_17 = pd.DataFrame()\n",
    "for district_id in lpu_17['district_id'].unique():\n",
    "    district_id_lpu_17+=[district_id]\n",
    "    sum_target_lpu_17+=[sum(lpu_17['target'][lpu_17['district_id']==district_id])]\n",
    "\n",
    "sum_target_by_district_id_LPU_17['district_id']=district_id_lpu_17\n",
    "sum_target_by_district_id_LPU_17['sum_target']=sum_target_lpu_17"
   ]
  },
  {
   "cell_type": "code",
   "execution_count": 120,
   "metadata": {
    "collapsed": false
   },
   "outputs": [
    {
     "data": {
      "text/plain": [
       "[<matplotlib.lines.Line2D at 0x7f3ca53b4710>]"
      ]
     },
     "execution_count": 120,
     "metadata": {},
     "output_type": "execute_result"
    },
    {
     "data": {
      "image/png": "[encoded data removed]",
      "text/plain": [
       "<matplotlib.figure.Figure at 0x7f3ca53b4cf8>"
      ]
     },
     "metadata": {},
     "output_type": "display_data"
    }
   ],
   "source": [
    "lm=sns.lmplot(x='district_id',y='sum_target', hue='district_id', data=sum_target_by_district_id_LPU_17, legend=False, fit_reg=False,scatter_kws={\"s\": 100})\n",
    "lm.axes[0,0].set_ylim(20000,45000)\n",
    "plt.plot(lower_bound['district_id'], lower_bound['goal_lpu_17'],color = 'black')\n",
    "plt.plot(upper_bound['district_id'], upper_bound['goal_lpu_17'],color = 'black')"
   ]
  },
  {
   "cell_type": "markdown",
   "metadata": {},
   "source": [
    "## Расммотрим LPU_ID = 19."
   ]
  },
  {
   "cell_type": "code",
   "execution_count": 121,
   "metadata": {
    "collapsed": false
   },
   "outputs": [
    {
     "name": "stdout",
     "output_type": "stream",
     "text": [
      "(73366, 27)\n",
      "(966767, 27)\n",
      "(73366,)\n",
      "(966767,)\n",
      "(73366, 26)\n",
      "(966767, 26)\n"
     ]
    }
   ],
   "source": [
    "#Сформируем и очистим данные для LPU_ID = 19\n",
    "X_lpu_19 = sc_data.drop_duplicates()\n",
    "\n",
    "X_lpu_19 = X_lpu_19[X_lpu_19['age_calculate_y']<150]\n",
    "\n",
    "X_lpu_19 = X_lpu_19.drop(ufo_indexes.index, axis=0)\n",
    "\n",
    "\n",
    "#Операция присваивания не копирует объект, она лишь создаёт ссылку на объект. А она нам нужна именно копия!\n",
    "X_train_19 = deepcopy(X_lpu_19)\n",
    "X_lpu_19 = X_lpu_19[X_lpu_19['lpu_id']==19]\n",
    "print(X_lpu_19.shape)\n",
    "print(X_train_19.shape)\n",
    "\n",
    "y_lpu_19 = X_lpu_19['target']\n",
    "y_train_19 = X_train_19['target'] \n",
    "print(y_lpu_19.shape)\n",
    "print(y_train_19.shape)\n",
    "\n",
    "X_lpu_19 = X_lpu_19.drop(['target'], axis=1)\n",
    "X_train_19 = X_train_19.drop(['target'], axis=1)\n",
    "print(X_lpu_19.shape)\n",
    "print(X_train_19.shape)\n",
    "\n",
    "\n",
    "X_train_19['untouchable'].fillna(0, inplace=True) #допущение-эвристика\n",
    "X_lpu_19['untouchable'].fillna(0, inplace=True) #допущение-эвристика"
   ]
  },
  {
   "cell_type": "code",
   "execution_count": 122,
   "metadata": {
    "collapsed": true
   },
   "outputs": [],
   "source": [
    "GBM_reg=GBMRegressor(\n",
    "    num_iterations=500,\n",
    "    learning_rate=0.1,\n",
    "    num_leaves=10,\n",
    "    num_threads=-1,\n",
    "    min_data_in_leaf=8,\n",
    "    metric='l2',\n",
    "    feature_fraction=0.8,\n",
    "    feature_fraction_seed=241,\n",
    "    bagging_fraction=0.8,\n",
    "    bagging_freq=100,\n",
    "    bagging_seed=123,\n",
    "    metric_freq=1,\n",
    "    early_stopping_round=50,\n",
    "    verbose = False)\n",
    "\n",
    "GBM_reg.fit(X_train_19.drop(['pat_id'],axis=1), y_train_19)\n",
    "\n",
    "#Сделаем прогноз для target и округлим его до целых чисел\n",
    "HAT_y_lpu_19 = np.round(GBM_reg.predict(X_lpu_19.drop(['pat_id'],axis=1))) "
   ]
  },
  {
   "cell_type": "code",
   "execution_count": 123,
   "metadata": {
    "collapsed": true
   },
   "outputs": [],
   "source": [
    "MAE = mae(y_lpu_19,HAT_y_lpu_19) #погрешность для одного target'а "
   ]
  },
  {
   "cell_type": "code",
   "execution_count": 124,
   "metadata": {
    "collapsed": false
   },
   "outputs": [
    {
     "data": {
      "text/plain": [
       "1.4835482376032494"
      ]
     },
     "execution_count": 124,
     "metadata": {},
     "output_type": "execute_result"
    }
   ],
   "source": [
    "MAE"
   ]
  },
  {
   "cell_type": "code",
   "execution_count": 125,
   "metadata": {
    "collapsed": false
   },
   "outputs": [
    {
     "data": {
      "text/plain": [
       "(73366, 27)"
      ]
     },
     "execution_count": 125,
     "metadata": {},
     "output_type": "execute_result"
    }
   ],
   "source": [
    "X_lpu_19['target'] = HAT_y_lpu_19\n",
    "X_lpu_19.shape"
   ]
  },
  {
   "cell_type": "code",
   "execution_count": 126,
   "metadata": {
    "collapsed": true
   },
   "outputs": [],
   "source": [
    "lpu_19 = deepcopy(X_lpu_19)\n",
    "#Уберём из lpu_19 все столбцы, кроме pat_id, district_id,target, untouchable\n",
    "for col in X_lpu_19.columns:\n",
    "    if(col != 'pat_id' and col != 'district_id' and col != 'target' and col != 'untouchable'):\n",
    "        lpu_19 = lpu_19.drop([col], axis=1)"
   ]
  },
  {
   "cell_type": "code",
   "execution_count": 127,
   "metadata": {
    "collapsed": true
   },
   "outputs": [],
   "source": [
    "#Cписок под хранение уникального значения district_id\n",
    "district_id_lpu_19=[]\n",
    "#Cписок под хранение cуммарного target по данному district_id\n",
    "sum_target_lpu_19 = []\n",
    "sum_target_by_district_id_LPU_19 = pd.DataFrame()\n",
    "for district_id in lpu_19['district_id'].unique():\n",
    "    district_id_lpu_19+=[district_id]\n",
    "    sum_target_lpu_19+=[sum(lpu_19['target'][lpu_19['district_id']==district_id])]\n",
    "\n",
    "sum_target_by_district_id_LPU_19['district_id']=district_id_lpu_19\n",
    "sum_target_by_district_id_LPU_19['sum_target']=sum_target_lpu_19"
   ]
  },
  {
   "cell_type": "code",
   "execution_count": 128,
   "metadata": {
    "collapsed": false
   },
   "outputs": [
    {
     "name": "stdout",
     "output_type": "stream",
     "text": [
      "28246.2857143\n"
     ]
    }
   ],
   "source": [
    "#целевое значение для lpu_id = 19\n",
    "goal_lpu_19 = sum(lpu_19['target'])/lpu_19['district_id'].nunique()\n",
    "print(goal_lpu_19)"
   ]
  },
  {
   "cell_type": "code",
   "execution_count": 129,
   "metadata": {
    "collapsed": false
   },
   "outputs": [
    {
     "name": "stdout",
     "output_type": "stream",
     "text": [
      "3109.77142857\n"
     ]
    }
   ],
   "source": [
    "#Погрешность целевого значения для lpu_id = 19\n",
    "precision_goal_lpu_19 = MAE*len(lpu_19)/lpu_19['district_id'].nunique()\n",
    "print(precision_goal_lpu_19)"
   ]
  },
  {
   "cell_type": "code",
   "execution_count": 130,
   "metadata": {
    "collapsed": true
   },
   "outputs": [],
   "source": [
    "#Данные для формирования полосы, в которой должны лежать все суммарные таргеты по каждому участку\n",
    "lower_bound = pd.DataFrame()\n",
    "lower_bound['district_id'] = lpu_19['district_id']\n",
    "lower_bound['goal_lpu_19'] = goal_lpu_19 - 1500#precision_goal_lpu_19\n",
    "\n",
    "upper_bound = pd.DataFrame()\n",
    "upper_bound['district_id'] = lpu_19['district_id']\n",
    "upper_bound['goal_lpu_19'] = goal_lpu_19 + 1500#precision_goal_lpu_19"
   ]
  },
  {
   "cell_type": "code",
   "execution_count": 131,
   "metadata": {
    "collapsed": false
   },
   "outputs": [
    {
     "data": {
      "text/plain": [
       "[<matplotlib.lines.Line2D at 0x7f3c734d54e0>]"
      ]
     },
     "execution_count": 131,
     "metadata": {},
     "output_type": "execute_result"
    },
    {
     "data": {
      "image/png": "[encoded data removed]",
      "text/plain": [
       "<matplotlib.figure.Figure at 0x7f3ca52e8b00>"
      ]
     },
     "metadata": {},
     "output_type": "display_data"
    }
   ],
   "source": [
    "sns.lmplot(x='district_id',y='sum_target', hue='district_id', data=sum_target_by_district_id_LPU_19, legend=False, fit_reg=False,scatter_kws={\"s\": 100})\n",
    "plt.plot(lower_bound['district_id'], lower_bound['goal_lpu_19'],color = 'black')\n",
    "plt.plot(upper_bound['district_id'], upper_bound['goal_lpu_19'],color = 'black')"
   ]
  },
  {
   "cell_type": "code",
   "execution_count": 132,
   "metadata": {
    "collapsed": true
   },
   "outputs": [],
   "source": [
    "# Словарь, содержащий суммарные нагрузки по участкам \n",
    "loading = dict()\n",
    "for district_id in lpu_19['district_id'].unique():\n",
    "    loading[district_id]=sum(lpu_19['target'][lpu_19['district_id']==district_id])"
   ]
  },
  {
   "cell_type": "code",
   "execution_count": 133,
   "metadata": {
    "collapsed": false
   },
   "outputs": [
    {
     "name": "stdout",
     "output_type": "stream",
     "text": [
      "CPU times: user 55.1 s, sys: 104 ms, total: 55.2 s\n",
      "Wall time: 1min 1s\n"
     ]
    }
   ],
   "source": [
    "%%time\n",
    "\n",
    "#счётчик подсчёта перемещённых людей\n",
    "counter_of_moving_people=0\n",
    "\n",
    "#использую флаги состояний, говорящие о достижении равновесия\n",
    "flags = pd.DataFrame({'district_id':lpu_19['district_id'].unique(),'balance?':np.zeros(lpu_19['district_id'].nunique())})\n",
    "\n",
    "for mm in range(100000):                   #до этого было -- while True:, но так мы застраховываемся от зацикливания \n",
    "    #Участок с минимальной загрузкой\n",
    "    key_min = min(loading, key=loading.get)\n",
    "    MIN = loading[key_min]\n",
    "    \n",
    "    #Участок с максимальной загрузкой\n",
    "    key_max = max(loading, key=loading.get)\n",
    "    MAX = loading[key_max]\n",
    "    \n",
    "    #балансировка: переносим пациента с наибольшим target с участка максимальной загруженности\n",
    "    #на участок c минимальной загруженностью \n",
    "    #на другой, пока не достигнем равновесия. \n",
    "    lpu_19_key_max = lpu_19[lpu_19['district_id'] == key_max]\n",
    "    #Неприкасаемых не трогаем\n",
    "    targets_with_key_max = lpu_19_key_max['target'][lpu_19_key_max['untouchable'] != 1]\n",
    "    index_max_target = targets_with_key_max.idxmax()\n",
    "    \n",
    "    lpu_19.loc[index_max_target,'district_id'] = key_min\n",
    "    counter_of_moving_people +=1\n",
    "   \n",
    "    #условие выхода из цикла: порог на количество перемещённых людей\n",
    "    if counter_of_moving_people > 0.25*len(lpu_19):\n",
    "        break\n",
    "    \n",
    "    #использую флаги состояний, говорящие о достижении равновесия\n",
    "    for district_id in lpu_19['district_id'].unique():   \n",
    "        #если суммарный target по данному участку находится в пределах погрешности балансного, целевого значения,то\n",
    "        #флаг баланса по данному участку выставляем равным 1\n",
    "        if abs(sum(lpu_19['target'][lpu_19['district_id'] == district_id]) - goal_lpu_19) < 1500:\n",
    "            flags['balance?'][flags['district_id'] == district_id] = 1\n",
    "    \n",
    "    #условие выхода из цикла: все флаги равны 1, то есть все участки сбалансированы с заданной точностью\n",
    "    if flags['balance?'].all():\n",
    "        break\n",
    "    \n",
    "    flags['balance?'] = 0\n",
    "    \n",
    "    #Обновить словарь\n",
    "    loading = dict()\n",
    "    for district_id in lpu_19['district_id'].unique():\n",
    "        loading[district_id]=sum(lpu_19['target'][lpu_19['district_id']==district_id])"
   ]
  },
  {
   "cell_type": "code",
   "execution_count": 134,
   "metadata": {
    "collapsed": false
   },
   "outputs": [
    {
     "data": {
      "text/plain": [
       "318"
      ]
     },
     "execution_count": 134,
     "metadata": {},
     "output_type": "execute_result"
    }
   ],
   "source": [
    "counter_of_moving_people"
   ]
  },
  {
   "cell_type": "markdown",
   "metadata": {},
   "source": [
    "# Визуализация результатов балансировки по LPU_ID=19"
   ]
  },
  {
   "cell_type": "code",
   "execution_count": 135,
   "metadata": {
    "collapsed": true
   },
   "outputs": [],
   "source": [
    "#Cписок под хранение уникального значения district_id\n",
    "district_id_lpu_19=[]\n",
    "#Cписок под хранение cуммарного target по данному district_id\n",
    "sum_target_lpu_19 = []\n",
    "sum_target_by_district_id_LPU_19 = pd.DataFrame()\n",
    "for district_id in lpu_19['district_id'].unique():\n",
    "    district_id_lpu_19+=[district_id]\n",
    "    sum_target_lpu_19+=[sum(lpu_19['target'][lpu_19['district_id']==district_id])]\n",
    "\n",
    "sum_target_by_district_id_LPU_19['district_id']=district_id_lpu_19\n",
    "sum_target_by_district_id_LPU_19['sum_target']=sum_target_lpu_19"
   ]
  },
  {
   "cell_type": "code",
   "execution_count": 136,
   "metadata": {
    "collapsed": false
   },
   "outputs": [
    {
     "data": {
      "text/plain": [
       "[<matplotlib.lines.Line2D at 0x7f3c9801d7b8>]"
      ]
     },
     "execution_count": 136,
     "metadata": {},
     "output_type": "execute_result"
    },
    {
     "data": {
      "image/png": "[encoded data removed]",
      "text/plain": [
       "<matplotlib.figure.Figure at 0x7f3c9801da58>"
      ]
     },
     "metadata": {},
     "output_type": "display_data"
    }
   ],
   "source": [
    "lm=sns.lmplot(x='district_id',y='sum_target', hue='district_id', data=sum_target_by_district_id_LPU_19, legend=False, fit_reg=False,scatter_kws={\"s\": 100})\n",
    "lm.axes[0,0].set_ylim(24000,33000)\n",
    "plt.plot(lower_bound['district_id'], lower_bound['goal_lpu_19'],color = 'black')\n",
    "plt.plot(upper_bound['district_id'], upper_bound['goal_lpu_19'],color = 'black')"
   ]
  }
 ],
 "metadata": {
  "anaconda-cloud": {},
  "kernelspec": {
   "display_name": "Python [conda root]",
   "language": "python",
   "name": "conda-root-py"
  },
  "language_info": {
   "codemirror_mode": {
    "name": "ipython",
    "version": 3
   },
   "file_extension": ".py",
   "mimetype": "text/x-python",
   "name": "python",
   "nbconvert_exporter": "python",
   "pygments_lexer": "ipython3",
   "version": "3.5.2"
  }
 },
 "nbformat": 4,
 "nbformat_minor": 1
}
